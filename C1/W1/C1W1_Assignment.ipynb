{
 "cells": [
  {
   "cell_type": "markdown",
   "metadata": {
    "colab_type": "text",
    "id": "ZL_6GK8qX35J"
   },
   "source": [
    "\n",
    "\n",
    "# Week 1: Multiple Output Models using the Keras Functional API\n",
    "\n",
    "Welcome to the first programming assignment of the course! Your task will be to use the Keras functional API to train a model to predict two outputs. For this lab, you will use the **[Wine Quality Dataset](https://archive.ics.uci.edu/ml/datasets/Wine+Quality)** from the **UCI machine learning repository**. It has separate datasets for red wine and white wine.\n",
    "\n",
    "Normally, the wines are classified into one of the quality ratings specified in the attributes. In this exercise, you will combine the two datasets to predict the wine quality and whether the wine is red or white solely from the attributes. \n",
    "\n",
    "You will model wine quality estimations as a regression problem and wine type detection as a binary classification problem.\n",
    "\n",
    "#### Please complete sections that are marked **(TODO)**"
   ]
  },
  {
   "cell_type": "markdown",
   "metadata": {
    "colab_type": "text",
    "id": "obdcD6urYBY9"
   },
   "source": [
    "## Imports"
   ]
  },
  {
   "cell_type": "code",
   "execution_count": 133,
   "metadata": {
    "colab": {},
    "colab_type": "code",
    "id": "t8N3pcTQ5oQI"
   },
   "outputs": [],
   "source": [
    "import tensorflow as tf\n",
    "from tensorflow.keras.models import Model\n",
    "from tensorflow.keras.layers import Dense, Input\n",
    "\n",
    "import numpy as np\n",
    "import matplotlib.pyplot as plt\n",
    "import pandas as pd\n",
    "from sklearn.model_selection import train_test_split\n",
    "from sklearn.metrics import confusion_matrix, ConfusionMatrixDisplay\n",
    "import itertools\n",
    "\n",
    "import utils"
   ]
  },
  {
   "cell_type": "markdown",
   "metadata": {
    "colab_type": "text",
    "id": "gQMERzWQYpgm"
   },
   "source": [
    "## Load Dataset\n",
    "\n",
    "\n",
    "You will now load the dataset from the [UCI Machine Learning Repository](https://archive.ics.uci.edu/ml/index.php) which are **already saved** in your workspace (*Note: For successful grading, please **do not** modify the default string set to the `URI` variable below*).\n",
    "\n",
    "### Pre-process the white wine dataset (TODO)\n",
    "You will add a new column named `is_red` in your dataframe to indicate if the wine is white or red. \n",
    "- In the white wine dataset, you will fill the column `is_red` with  zeros (0)."
   ]
  },
  {
   "cell_type": "code",
   "execution_count": 134,
   "metadata": {
    "colab": {},
    "colab_type": "code",
    "deletable": false,
    "id": "2qYAjKXCd4RH",
    "nbgrader": {
     "cell_type": "code",
     "checksum": "325ea195519b7035934c95bb529a062c",
     "grade": false,
     "grade_id": "cell-e5bfa0f152d9a21f",
     "locked": false,
     "schema_version": 3,
     "solution": true,
     "task": false
    }
   },
   "outputs": [],
   "source": [
    "## Please uncomment all lines in this cell and replace those marked with `# YOUR CODE HERE`.\n",
    "## You can select all lines in this code cell with Ctrl+A (Windows/Linux) or Cmd+A (Mac), then press Ctrl+/ (Windows/Linux) or Cmd+/ (Mac) to uncomment.\n",
    "\n",
    "\n",
    "\n",
    "# # URL of the white wine dataset\n",
    "URI = './winequality-white.csv'\n",
    "\n",
    "# # load the dataset from the URL\n",
    "white_df = pd.read_csv(URI, sep=\";\")\n",
    "\n",
    "# # fill the `is_red` column with zeros.\n",
    "white_df[\"is_red\"] = 0 # YOUR CODE HERE\n",
    "\n",
    "# # keep only the first of duplicate items\n",
    "white_df = white_df.drop_duplicates(keep='first')\n"
   ]
  },
  {
   "cell_type": "code",
   "execution_count": 135,
   "metadata": {
    "deletable": false,
    "editable": false,
    "nbgrader": {
     "cell_type": "code",
     "checksum": "defe38d6ec58fd31cd67b89e46c4373f",
     "grade": true,
     "grade_id": "cell-30575e713b55fc51",
     "locked": true,
     "points": 1,
     "schema_version": 3,
     "solution": false,
     "task": false
    }
   },
   "outputs": [
    {
     "name": "stdout",
     "output_type": "stream",
     "text": [
      "\u001b[92m All public tests passed\n"
     ]
    }
   ],
   "source": [
    "# You can click `File -> Open` in the menu above and open the `utils.py` file \n",
    "# in case you want to inspect the unit tests being used for each graded function.\n",
    "\n",
    "utils.test_white_df(white_df)\n"
   ]
  },
  {
   "cell_type": "code",
   "execution_count": 136,
   "metadata": {
    "colab": {},
    "colab_type": "code",
    "id": "OQHK0ohBQRCk"
   },
   "outputs": [
    {
     "name": "stdout",
     "output_type": "stream",
     "text": [
      "8.8\n",
      "9.1\n"
     ]
    }
   ],
   "source": [
    "print(white_df.alcohol[0])\n",
    "print(white_df.alcohol[100])\n",
    "\n",
    "# EXPECTED OUTPUT\n",
    "# 8.8\n",
    "# 9.1"
   ]
  },
  {
   "cell_type": "markdown",
   "metadata": {},
   "source": [
    "### Pre-process the red wine dataset (TODO)\n",
    "- In the red wine dataset, you will fill in the column `is_red` with ones (1)."
   ]
  },
  {
   "cell_type": "code",
   "execution_count": 137,
   "metadata": {
    "colab": {},
    "colab_type": "code",
    "deletable": false,
    "id": "8y3QxKwBed8v",
    "nbgrader": {
     "cell_type": "code",
     "checksum": "12e0963d15be33b01b4e6ebc8945e51e",
     "grade": false,
     "grade_id": "cell-e47a40f306593274",
     "locked": false,
     "schema_version": 3,
     "solution": true,
     "task": false
    }
   },
   "outputs": [],
   "source": [
    "## Please uncomment all lines in this cell and replace those marked with `# YOUR CODE HERE`.\n",
    "## You can select all lines in this code cell with Ctrl+A (Windows/Linux) or Cmd+A (Mac), then press Ctrl+/ (Windows/Linux) or Cmd+/ (Mac) to uncomment.\n",
    "\n",
    "\n",
    "\n",
    "# # URL of the red wine dataset\n",
    "URI = './winequality-red.csv'\n",
    "\n",
    "# # load the dataset from the URL\n",
    "red_df = pd.read_csv(URI, sep=\";\")\n",
    "\n",
    "# # fill the `is_red` column with ones.\n",
    "red_df[\"is_red\"] = 1 # YOUR CODE HERE\n",
    "\n",
    "# # keep only the first of duplicate items\n",
    "red_df = red_df.drop_duplicates(keep='first')\n"
   ]
  },
  {
   "cell_type": "code",
   "execution_count": 138,
   "metadata": {
    "deletable": false,
    "editable": false,
    "nbgrader": {
     "cell_type": "code",
     "checksum": "d8e0c91b0fd668b63ba74a8f2f958b59",
     "grade": true,
     "grade_id": "cell-2a75937adcc0c25b",
     "locked": true,
     "points": 1,
     "schema_version": 3,
     "solution": false,
     "task": false
    }
   },
   "outputs": [
    {
     "name": "stdout",
     "output_type": "stream",
     "text": [
      "\u001b[92m All public tests passed\n"
     ]
    }
   ],
   "source": [
    "utils.test_red_df(red_df)\n"
   ]
  },
  {
   "cell_type": "code",
   "execution_count": 139,
   "metadata": {
    "colab": {},
    "colab_type": "code",
    "id": "zsB3LUzNQpo_"
   },
   "outputs": [
    {
     "name": "stdout",
     "output_type": "stream",
     "text": [
      "9.4\n",
      "10.2\n"
     ]
    }
   ],
   "source": [
    "print(red_df.alcohol[0])\n",
    "print(red_df.alcohol[100])\n",
    "\n",
    "# EXPECTED OUTPUT\n",
    "# 9.4\n",
    "# 10.2"
   ]
  },
  {
   "cell_type": "markdown",
   "metadata": {
    "colab_type": "text",
    "id": "2G8B-NYuM6-f"
   },
   "source": [
    "### Concatenate the datasets\n",
    "\n",
    "Next, concatenate the red and white wine dataframes."
   ]
  },
  {
   "cell_type": "code",
   "execution_count": 140,
   "metadata": {
    "colab": {},
    "colab_type": "code",
    "id": "YpQrOjJbfN3m"
   },
   "outputs": [],
   "source": [
    "df = pd.concat([red_df, white_df], ignore_index=True)"
   ]
  },
  {
   "cell_type": "code",
   "execution_count": 141,
   "metadata": {
    "colab": {},
    "colab_type": "code",
    "id": "Se2dTmThQyjb"
   },
   "outputs": [
    {
     "name": "stdout",
     "output_type": "stream",
     "text": [
      "9.4\n",
      "9.5\n"
     ]
    }
   ],
   "source": [
    "print(df.alcohol[0])\n",
    "print(df.alcohol[100])\n",
    "\n",
    "# EXPECTED OUTPUT\n",
    "# 9.4\n",
    "# 9.5"
   ]
  },
  {
   "cell_type": "markdown",
   "metadata": {},
   "source": [
    "In a real-world scenario, you should shuffle the data. For this assignment however, **you are not** going to do that because the grader needs to test with deterministic data. If you want the code to do it **after** you've gotten your grade for this notebook, we left the commented line below for reference"
   ]
  },
  {
   "cell_type": "code",
   "execution_count": 142,
   "metadata": {
    "colab": {},
    "colab_type": "code",
    "id": "wx6y3rPpQv4k"
   },
   "outputs": [],
   "source": [
    "#df = df.iloc[np.random.permutation(len(df))]"
   ]
  },
  {
   "cell_type": "markdown",
   "metadata": {
    "colab_type": "text",
    "id": "-EqIcbg5M_n1"
   },
   "source": [
    "This will chart the quality of the wines."
   ]
  },
  {
   "cell_type": "code",
   "execution_count": 143,
   "metadata": {
    "colab": {},
    "colab_type": "code",
    "id": "IsvK0-Sgy17C"
   },
   "outputs": [
    {
     "data": {
      "image/png": "[encoded data removed]",
      "text/plain": [
       "<Figure size 432x288 with 1 Axes>"
      ]
     },
     "metadata": {
      "needs_background": "light"
     },
     "output_type": "display_data"
    }
   ],
   "source": [
    "df['quality'].hist(bins=20);"
   ]
  },
  {
   "cell_type": "markdown",
   "metadata": {
    "colab_type": "text",
    "id": "Nut1rmYLzf-p"
   },
   "source": [
    "### Imbalanced data (TODO)\n",
    "You can see from the plot above that the wine quality dataset is imbalanced. \n",
    "- Since there are very few observations with quality equal to 3, 4, 8 and 9, you can drop these observations from your dataset. \n",
    "- You can do this by removing data belonging to all classes except those > 4 and < 8."
   ]
  },
  {
   "cell_type": "code",
   "execution_count": 144,
   "metadata": {
    "colab": {},
    "colab_type": "code",
    "deletable": false,
    "id": "doH9_-gnf3sz",
    "nbgrader": {
     "cell_type": "code",
     "checksum": "d9ba9fc3a3ca02ccc567be33652b80fe",
     "grade": false,
     "grade_id": "cell-6a3e9db696f6827b",
     "locked": false,
     "schema_version": 3,
     "solution": true,
     "task": false
    }
   },
   "outputs": [],
   "source": [
    "## Please uncomment all lines in this cell and replace those marked with `# YOUR CODE HERE`.\n",
    "## You can select all lines in this code cell with Ctrl+A (Windows/Linux) or Cmd+A (Mac), then press Ctrl+/ (Windows/Linux) or Cmd+/ (Mac) to uncomment.\n",
    "\n",
    "\n",
    "\n",
    "# # get data with wine quality greater than 4 and less than 8\n",
    "df = df[(df['quality'] > 4) & (df['quality'] < 8 )]\n",
    "\n",
    "# # reset index and drop the old one\n",
    "df = df.reset_index(drop=True)"
   ]
  },
  {
   "cell_type": "code",
   "execution_count": 145,
   "metadata": {
    "deletable": false,
    "editable": false,
    "nbgrader": {
     "cell_type": "code",
     "checksum": "281e1d86a4803560ed5892cd7eda4c01",
     "grade": true,
     "grade_id": "cell-aed3da719d4682c7",
     "locked": true,
     "points": 1,
     "schema_version": 3,
     "solution": false,
     "task": false
    }
   },
   "outputs": [
    {
     "name": "stdout",
     "output_type": "stream",
     "text": [
      "\u001b[92m All public tests passed\n"
     ]
    }
   ],
   "source": [
    "utils.test_df_drop(df)\n",
    "\n"
   ]
  },
  {
   "cell_type": "code",
   "execution_count": 146,
   "metadata": {
    "colab": {},
    "colab_type": "code",
    "id": "xNR1iAlMRPXO"
   },
   "outputs": [
    {
     "name": "stdout",
     "output_type": "stream",
     "text": [
      "9.4\n",
      "10.9\n"
     ]
    }
   ],
   "source": [
    "print(df.alcohol[0])\n",
    "print(df.alcohol[100])\n",
    "\n",
    "# EXPECTED OUTPUT\n",
    "# 9.4\n",
    "# 10.9"
   ]
  },
  {
   "cell_type": "markdown",
   "metadata": {
    "colab_type": "text",
    "id": "cwhuRpnVRTzG"
   },
   "source": [
    "You can plot again to see the new range of data and quality"
   ]
  },
  {
   "cell_type": "code",
   "execution_count": 147,
   "metadata": {
    "colab": {},
    "colab_type": "code",
    "id": "857ygzZiLgGg"
   },
   "outputs": [
    {
     "data": {
      "image/png": "[encoded data removed]",
      "text/plain": [
       "<Figure size 432x288 with 1 Axes>"
      ]
     },
     "metadata": {
      "needs_background": "light"
     },
     "output_type": "display_data"
    }
   ],
   "source": [
    "df['quality'].hist(bins=20);"
   ]
  },
  {
   "cell_type": "markdown",
   "metadata": {
    "colab_type": "text",
    "id": "n3k0vqSsp84t"
   },
   "source": [
    "### Train Test Split (TODO)\n",
    "\n",
    "Next, you can split the datasets into training, test and validation datasets.\n",
    "- The data frame should be split 80:20 into `train` and `test` sets.\n",
    "- The resulting `train` should then be split 80:20 into `train` and `val` sets.\n",
    "- The `train_test_split` parameter `test_size` takes a float value that ranges between 0. and 1, and represents the proportion of the dataset that is allocated to the test set.  The rest of the data is allocated to the training set."
   ]
  },
  {
   "cell_type": "code",
   "execution_count": 148,
   "metadata": {
    "colab": {},
    "colab_type": "code",
    "deletable": false,
    "id": "PAVIf2-fgRVY",
    "nbgrader": {
     "cell_type": "code",
     "checksum": "7f5738f4fb51d65adc9a8acbdf2b9970",
     "grade": false,
     "grade_id": "cell-91946cadf745206b",
     "locked": false,
     "schema_version": 3,
     "solution": true,
     "task": false
    }
   },
   "outputs": [],
   "source": [
    "## Please uncomment all lines in this cell and replace those marked with `# YOUR CODE HERE`.\n",
    "## You can select all lines in this code cell with Ctrl+A (Windows/Linux) or Cmd+A (Mac), then press Ctrl+/ (Windows/Linux) or Cmd+/ (Mac) to uncomment.\n",
    "\n",
    "\n",
    "\n",
    "## Please do not change the random_state parameter. This is needed for grading.\n",
    "\n",
    "# # split df into 80:20 train and test sets\n",
    "train, test = train_test_split(df, test_size=0.2, random_state = 1)                         \n",
    "# # split train into 80:20 train and val sets\n",
    "train, val = train_test_split(train, test_size=0.2, random_state = 1)\n"
   ]
  },
  {
   "cell_type": "code",
   "execution_count": 149,
   "metadata": {
    "colab": {},
    "colab_type": "code",
    "deletable": false,
    "editable": false,
    "id": "57h9LcEzRWpk",
    "nbgrader": {
     "cell_type": "code",
     "checksum": "42adbe9e66efac7c7a5f8cd73ac92f22",
     "grade": true,
     "grade_id": "cell-64b8b38cd0b965f6",
     "locked": true,
     "points": 1,
     "schema_version": 3,
     "solution": false,
     "task": false
    }
   },
   "outputs": [
    {
     "name": "stdout",
     "output_type": "stream",
     "text": [
      "\u001b[92m All public tests passed\n"
     ]
    }
   ],
   "source": [
    "utils.test_data_sizes(train.size, test.size, val.size)\n",
    "\n"
   ]
  },
  {
   "cell_type": "markdown",
   "metadata": {
    "colab_type": "text",
    "id": "RwTNu4KFqG-K"
   },
   "source": [
    "Here's where you can explore the training stats. You can pop the labels 'is_red' and 'quality' from the data as these will be used as the labels\n"
   ]
  },
  {
   "cell_type": "code",
   "execution_count": 150,
   "metadata": {
    "colab": {},
    "colab_type": "code",
    "id": "Y_afyhhHM6WQ"
   },
   "outputs": [],
   "source": [
    "train_stats = train.describe()\n",
    "train_stats.pop('is_red')\n",
    "train_stats.pop('quality')\n",
    "train_stats = train_stats.transpose()"
   ]
  },
  {
   "cell_type": "markdown",
   "metadata": {
    "colab_type": "text",
    "id": "ahvbYm4fNqSt"
   },
   "source": [
    "Explore the training stats!"
   ]
  },
  {
   "cell_type": "code",
   "execution_count": 151,
   "metadata": {
    "colab": {},
    "colab_type": "code",
    "id": "n_gAtPjZ0otF"
   },
   "outputs": [
    {
     "data": {
      "text/html": [
       "<div>\n",
       "<style scoped>\n",
       "    .dataframe tbody tr th:only-of-type {\n",
       "        vertical-align: middle;\n",
       "    }\n",
       "\n",
       "    .dataframe tbody tr th {\n",
       "        vertical-align: top;\n",
       "    }\n",
       "\n",
       "    .dataframe thead th {\n",
       "        text-align: right;\n",
       "    }\n",
       "</style>\n",
       "<table border=\"1\" class=\"dataframe\">\n",
       "  <thead>\n",
       "    <tr style=\"text-align: right;\">\n",
       "      <th></th>\n",
       "      <th>count</th>\n",
       "      <th>mean</th>\n",
       "      <th>std</th>\n",
       "      <th>min</th>\n",
       "      <th>25%</th>\n",
       "      <th>50%</th>\n",
       "      <th>75%</th>\n",
       "      <th>max</th>\n",
       "    </tr>\n",
       "  </thead>\n",
       "  <tbody>\n",
       "    <tr>\n",
       "      <th>fixed acidity</th>\n",
       "      <td>3155.0</td>\n",
       "      <td>7.221616</td>\n",
       "      <td>1.325297</td>\n",
       "      <td>3.80000</td>\n",
       "      <td>6.40000</td>\n",
       "      <td>7.00000</td>\n",
       "      <td>7.7000</td>\n",
       "      <td>15.60000</td>\n",
       "    </tr>\n",
       "    <tr>\n",
       "      <th>volatile acidity</th>\n",
       "      <td>3155.0</td>\n",
       "      <td>0.338929</td>\n",
       "      <td>0.162476</td>\n",
       "      <td>0.08000</td>\n",
       "      <td>0.23000</td>\n",
       "      <td>0.29000</td>\n",
       "      <td>0.4000</td>\n",
       "      <td>1.24000</td>\n",
       "    </tr>\n",
       "    <tr>\n",
       "      <th>citric acid</th>\n",
       "      <td>3155.0</td>\n",
       "      <td>0.321569</td>\n",
       "      <td>0.147970</td>\n",
       "      <td>0.00000</td>\n",
       "      <td>0.25000</td>\n",
       "      <td>0.31000</td>\n",
       "      <td>0.4000</td>\n",
       "      <td>1.66000</td>\n",
       "    </tr>\n",
       "    <tr>\n",
       "      <th>residual sugar</th>\n",
       "      <td>3155.0</td>\n",
       "      <td>5.155911</td>\n",
       "      <td>4.639632</td>\n",
       "      <td>0.60000</td>\n",
       "      <td>1.80000</td>\n",
       "      <td>2.80000</td>\n",
       "      <td>7.6500</td>\n",
       "      <td>65.80000</td>\n",
       "    </tr>\n",
       "    <tr>\n",
       "      <th>chlorides</th>\n",
       "      <td>3155.0</td>\n",
       "      <td>0.056976</td>\n",
       "      <td>0.036802</td>\n",
       "      <td>0.01200</td>\n",
       "      <td>0.03800</td>\n",
       "      <td>0.04700</td>\n",
       "      <td>0.0660</td>\n",
       "      <td>0.61100</td>\n",
       "    </tr>\n",
       "    <tr>\n",
       "      <th>free sulfur dioxide</th>\n",
       "      <td>3155.0</td>\n",
       "      <td>30.388590</td>\n",
       "      <td>17.236784</td>\n",
       "      <td>1.00000</td>\n",
       "      <td>17.00000</td>\n",
       "      <td>28.00000</td>\n",
       "      <td>41.0000</td>\n",
       "      <td>131.00000</td>\n",
       "    </tr>\n",
       "    <tr>\n",
       "      <th>total sulfur dioxide</th>\n",
       "      <td>3155.0</td>\n",
       "      <td>115.062282</td>\n",
       "      <td>56.706617</td>\n",
       "      <td>6.00000</td>\n",
       "      <td>75.00000</td>\n",
       "      <td>117.00000</td>\n",
       "      <td>156.0000</td>\n",
       "      <td>344.00000</td>\n",
       "    </tr>\n",
       "    <tr>\n",
       "      <th>density</th>\n",
       "      <td>3155.0</td>\n",
       "      <td>0.994633</td>\n",
       "      <td>0.003005</td>\n",
       "      <td>0.98711</td>\n",
       "      <td>0.99232</td>\n",
       "      <td>0.99481</td>\n",
       "      <td>0.9968</td>\n",
       "      <td>1.03898</td>\n",
       "    </tr>\n",
       "    <tr>\n",
       "      <th>pH</th>\n",
       "      <td>3155.0</td>\n",
       "      <td>3.223201</td>\n",
       "      <td>0.161272</td>\n",
       "      <td>2.72000</td>\n",
       "      <td>3.11000</td>\n",
       "      <td>3.21000</td>\n",
       "      <td>3.3300</td>\n",
       "      <td>4.01000</td>\n",
       "    </tr>\n",
       "    <tr>\n",
       "      <th>sulphates</th>\n",
       "      <td>3155.0</td>\n",
       "      <td>0.534051</td>\n",
       "      <td>0.149149</td>\n",
       "      <td>0.22000</td>\n",
       "      <td>0.43000</td>\n",
       "      <td>0.51000</td>\n",
       "      <td>0.6000</td>\n",
       "      <td>1.95000</td>\n",
       "    </tr>\n",
       "    <tr>\n",
       "      <th>alcohol</th>\n",
       "      <td>3155.0</td>\n",
       "      <td>10.504466</td>\n",
       "      <td>1.154654</td>\n",
       "      <td>8.50000</td>\n",
       "      <td>9.50000</td>\n",
       "      <td>10.30000</td>\n",
       "      <td>11.3000</td>\n",
       "      <td>14.00000</td>\n",
       "    </tr>\n",
       "  </tbody>\n",
       "</table>\n",
       "</div>"
      ],
      "text/plain": [
       "                       count        mean        std      min       25%  \\\n",
       "fixed acidity         3155.0    7.221616   1.325297  3.80000   6.40000   \n",
       "volatile acidity      3155.0    0.338929   0.162476  0.08000   0.23000   \n",
       "citric acid           3155.0    0.321569   0.147970  0.00000   0.25000   \n",
       "residual sugar        3155.0    5.155911   4.639632  0.60000   1.80000   \n",
       "chlorides             3155.0    0.056976   0.036802  0.01200   0.03800   \n",
       "free sulfur dioxide   3155.0   30.388590  17.236784  1.00000  17.00000   \n",
       "total sulfur dioxide  3155.0  115.062282  56.706617  6.00000  75.00000   \n",
       "density               3155.0    0.994633   0.003005  0.98711   0.99232   \n",
       "pH                    3155.0    3.223201   0.161272  2.72000   3.11000   \n",
       "sulphates             3155.0    0.534051   0.149149  0.22000   0.43000   \n",
       "alcohol               3155.0   10.504466   1.154654  8.50000   9.50000   \n",
       "\n",
       "                            50%       75%        max  \n",
       "fixed acidity           7.00000    7.7000   15.60000  \n",
       "volatile acidity        0.29000    0.4000    1.24000  \n",
       "citric acid             0.31000    0.4000    1.66000  \n",
       "residual sugar          2.80000    7.6500   65.80000  \n",
       "chlorides               0.04700    0.0660    0.61100  \n",
       "free sulfur dioxide    28.00000   41.0000  131.00000  \n",
       "total sulfur dioxide  117.00000  156.0000  344.00000  \n",
       "density                 0.99481    0.9968    1.03898  \n",
       "pH                      3.21000    3.3300    4.01000  \n",
       "sulphates               0.51000    0.6000    1.95000  \n",
       "alcohol                10.30000   11.3000   14.00000  "
      ]
     },
     "execution_count": 151,
     "metadata": {},
     "output_type": "execute_result"
    }
   ],
   "source": [
    "train_stats"
   ]
  },
  {
   "cell_type": "markdown",
   "metadata": {
    "colab_type": "text",
    "id": "bGPvt9jir_HC"
   },
   "source": [
    "### Get the labels (TODO)\n",
    "\n",
    "The features and labels are currently in the same dataframe.\n",
    "- You will want to store the label columns `is_red` and `quality` separately from the feature columns.  \n",
    "- The following function, `format_output`, gets these two columns from the dataframe (it's given to you).\n",
    "- `format_output` also formats the data into numpy arrays. \n",
    "- Please use the `format_output` and apply it to the `train`, `val` and `test` sets to get dataframes for the labels."
   ]
  },
  {
   "cell_type": "code",
   "execution_count": 152,
   "metadata": {
    "colab": {},
    "colab_type": "code",
    "id": "Z_fs14XQqZVP"
   },
   "outputs": [],
   "source": [
    "def format_output(data):\n",
    "    is_red = data.pop('is_red')\n",
    "    is_red = np.array(is_red)\n",
    "    quality = data.pop('quality')\n",
    "    quality = np.array(quality)\n",
    "    return (quality, is_red)"
   ]
  },
  {
   "cell_type": "code",
   "execution_count": 153,
   "metadata": {
    "colab": {},
    "colab_type": "code",
    "deletable": false,
    "id": "8L3ZZe1fQicm",
    "nbgrader": {
     "cell_type": "code",
     "checksum": "7a86809e54895a816434c48dc903f55d",
     "grade": false,
     "grade_id": "cell-5c30fa2c2a354b0f",
     "locked": false,
     "schema_version": 3,
     "solution": true,
     "task": false
    }
   },
   "outputs": [],
   "source": [
    "## Please uncomment all lines in this cell and replace those marked with `# YOUR CODE HERE`.\n",
    "## You can select all lines in this code cell with Ctrl+A (Windows/Linux) or Cmd+A (Mac), then press Ctrl+/ (Windows/Linux) or Cmd+/ (Mac) to uncomment.\n",
    "\n",
    "\n",
    "\n",
    "# format the output of the train set\n",
    "train_Y = format_output(train)\n",
    "\n",
    "# format the output of the val set\n",
    "val_Y = format_output(val)\n",
    "    \n",
    "# format the output of the test set\n",
    "test_Y = format_output(test)"
   ]
  },
  {
   "cell_type": "code",
   "execution_count": 154,
   "metadata": {
    "deletable": false,
    "editable": false,
    "nbgrader": {
     "cell_type": "code",
     "checksum": "359cabbafaed14ec9bbc1e57a7b6f32c",
     "grade": true,
     "grade_id": "cell-4977d8befb80f56b",
     "locked": true,
     "points": 1,
     "schema_version": 3,
     "solution": false,
     "task": false
    }
   },
   "outputs": [
    {
     "name": "stdout",
     "output_type": "stream",
     "text": [
      "\u001b[92m All public tests passed\n"
     ]
    }
   ],
   "source": [
    "utils.test_format_output(df, train_Y, val_Y, test_Y)"
   ]
  },
  {
   "cell_type": "markdown",
   "metadata": {},
   "source": [
    "Notice that after you get the labels, the `train`, `val` and `test` dataframes no longer contain the label columns, and contain just the feature columns.\n",
    "- This is because you used `.pop` in the `format_output` function."
   ]
  },
  {
   "cell_type": "code",
   "execution_count": 155,
   "metadata": {},
   "outputs": [
    {
     "data": {
      "text/html": [
       "<div>\n",
       "<style scoped>\n",
       "    .dataframe tbody tr th:only-of-type {\n",
       "        vertical-align: middle;\n",
       "    }\n",
       "\n",
       "    .dataframe tbody tr th {\n",
       "        vertical-align: top;\n",
       "    }\n",
       "\n",
       "    .dataframe thead th {\n",
       "        text-align: right;\n",
       "    }\n",
       "</style>\n",
       "<table border=\"1\" class=\"dataframe\">\n",
       "  <thead>\n",
       "    <tr style=\"text-align: right;\">\n",
       "      <th></th>\n",
       "      <th>fixed acidity</th>\n",
       "      <th>volatile acidity</th>\n",
       "      <th>citric acid</th>\n",
       "      <th>residual sugar</th>\n",
       "      <th>chlorides</th>\n",
       "      <th>free sulfur dioxide</th>\n",
       "      <th>total sulfur dioxide</th>\n",
       "      <th>density</th>\n",
       "      <th>pH</th>\n",
       "      <th>sulphates</th>\n",
       "      <th>alcohol</th>\n",
       "    </tr>\n",
       "  </thead>\n",
       "  <tbody>\n",
       "    <tr>\n",
       "      <th>225</th>\n",
       "      <td>7.5</td>\n",
       "      <td>0.65</td>\n",
       "      <td>0.18</td>\n",
       "      <td>7.0</td>\n",
       "      <td>0.088</td>\n",
       "      <td>27.0</td>\n",
       "      <td>94.0</td>\n",
       "      <td>0.99915</td>\n",
       "      <td>3.38</td>\n",
       "      <td>0.77</td>\n",
       "      <td>9.4</td>\n",
       "    </tr>\n",
       "    <tr>\n",
       "      <th>3557</th>\n",
       "      <td>6.3</td>\n",
       "      <td>0.27</td>\n",
       "      <td>0.29</td>\n",
       "      <td>12.2</td>\n",
       "      <td>0.044</td>\n",
       "      <td>59.0</td>\n",
       "      <td>196.0</td>\n",
       "      <td>0.99782</td>\n",
       "      <td>3.14</td>\n",
       "      <td>0.40</td>\n",
       "      <td>8.8</td>\n",
       "    </tr>\n",
       "    <tr>\n",
       "      <th>3825</th>\n",
       "      <td>8.8</td>\n",
       "      <td>0.27</td>\n",
       "      <td>0.25</td>\n",
       "      <td>5.0</td>\n",
       "      <td>0.024</td>\n",
       "      <td>52.0</td>\n",
       "      <td>99.0</td>\n",
       "      <td>0.99250</td>\n",
       "      <td>2.87</td>\n",
       "      <td>0.49</td>\n",
       "      <td>11.4</td>\n",
       "    </tr>\n",
       "    <tr>\n",
       "      <th>1740</th>\n",
       "      <td>6.4</td>\n",
       "      <td>0.45</td>\n",
       "      <td>0.07</td>\n",
       "      <td>1.1</td>\n",
       "      <td>0.030</td>\n",
       "      <td>10.0</td>\n",
       "      <td>131.0</td>\n",
       "      <td>0.99050</td>\n",
       "      <td>2.97</td>\n",
       "      <td>0.28</td>\n",
       "      <td>10.8</td>\n",
       "    </tr>\n",
       "    <tr>\n",
       "      <th>1221</th>\n",
       "      <td>7.2</td>\n",
       "      <td>0.53</td>\n",
       "      <td>0.13</td>\n",
       "      <td>2.0</td>\n",
       "      <td>0.058</td>\n",
       "      <td>18.0</td>\n",
       "      <td>22.0</td>\n",
       "      <td>0.99573</td>\n",
       "      <td>3.21</td>\n",
       "      <td>0.68</td>\n",
       "      <td>9.9</td>\n",
       "    </tr>\n",
       "  </tbody>\n",
       "</table>\n",
       "</div>"
      ],
      "text/plain": [
       "      fixed acidity  volatile acidity  citric acid  residual sugar  chlorides  \\\n",
       "225             7.5              0.65         0.18             7.0      0.088   \n",
       "3557            6.3              0.27         0.29            12.2      0.044   \n",
       "3825            8.8              0.27         0.25             5.0      0.024   \n",
       "1740            6.4              0.45         0.07             1.1      0.030   \n",
       "1221            7.2              0.53         0.13             2.0      0.058   \n",
       "\n",
       "      free sulfur dioxide  total sulfur dioxide  density    pH  sulphates  \\\n",
       "225                  27.0                  94.0  0.99915  3.38       0.77   \n",
       "3557                 59.0                 196.0  0.99782  3.14       0.40   \n",
       "3825                 52.0                  99.0  0.99250  2.87       0.49   \n",
       "1740                 10.0                 131.0  0.99050  2.97       0.28   \n",
       "1221                 18.0                  22.0  0.99573  3.21       0.68   \n",
       "\n",
       "      alcohol  \n",
       "225       9.4  \n",
       "3557      8.8  \n",
       "3825     11.4  \n",
       "1740     10.8  \n",
       "1221      9.9  "
      ]
     },
     "execution_count": 155,
     "metadata": {},
     "output_type": "execute_result"
    }
   ],
   "source": [
    "train.head()"
   ]
  },
  {
   "cell_type": "markdown",
   "metadata": {
    "colab_type": "text",
    "id": "hEdbrruAsN1D"
   },
   "source": [
    "### Normalize the data (TODO)\n",
    "\n",
    "Next, you can normalize the data, x, using the formula:\n",
    "$$x_{norm} = \\frac{x - \\mu}{\\sigma}$$\n",
    "- The `norm` function is defined for you.\n",
    "- Please apply the `norm` function to normalize the dataframes that contains the feature columns of `train`, `val` and `test` sets."
   ]
  },
  {
   "cell_type": "code",
   "execution_count": 156,
   "metadata": {
    "colab": {},
    "colab_type": "code",
    "id": "WWiZPAHCLjUs"
   },
   "outputs": [],
   "source": [
    "def norm(x):\n",
    "    return (x - train_stats['mean']) / train_stats['std']"
   ]
  },
  {
   "cell_type": "code",
   "execution_count": 157,
   "metadata": {
    "colab": {},
    "colab_type": "code",
    "deletable": false,
    "id": "JEaOi2I2Lk69",
    "nbgrader": {
     "cell_type": "code",
     "checksum": "6bc0cdcb563d192f271067aa3373ff32",
     "grade": false,
     "grade_id": "cell-d8416d975c371095",
     "locked": false,
     "schema_version": 3,
     "solution": true,
     "task": false
    }
   },
   "outputs": [],
   "source": [
    "## Please uncomment all lines in this cell and replace those marked with `# YOUR CODE HERE`.\n",
    "## You can select all lines in this code cell with Ctrl+A (Windows/Linux) or Cmd+A (Mac), then press Ctrl+/ (Windows/Linux) or Cmd+/ (Mac) to uncomment.\n",
    "\n",
    "\n",
    "\n",
    "# normalize the train set\n",
    "norm_train_X = norm(train)\n",
    "    \n",
    "# normalize the val set\n",
    "norm_val_X = norm(val)\n",
    "    \n",
    "# normalize the test set\n",
    "norm_test_X = norm(test)"
   ]
  },
  {
   "cell_type": "code",
   "execution_count": 158,
   "metadata": {
    "deletable": false,
    "editable": false,
    "nbgrader": {
     "cell_type": "code",
     "checksum": "4f567db45bf40191601780379cc100b8",
     "grade": true,
     "grade_id": "cell-97fad979d157529b",
     "locked": true,
     "points": 1,
     "schema_version": 3,
     "solution": false,
     "task": false
    }
   },
   "outputs": [
    {
     "name": "stdout",
     "output_type": "stream",
     "text": [
      "\u001b[92m All public tests passed\n"
     ]
    }
   ],
   "source": [
    "utils.test_norm(norm_train_X, norm_val_X, norm_test_X, train, val, test)\n"
   ]
  },
  {
   "cell_type": "markdown",
   "metadata": {
    "colab_type": "text",
    "id": "hzykDwQhsaPO"
   },
   "source": [
    "## Define the Model (TODO)\n",
    "\n",
    "Define the model using the functional API. The base model will be 2 `Dense` layers of 128 neurons each, and have the `'relu'` activation.\n",
    "- Check out the documentation for [tf.keras.layers.Dense](https://www.tensorflow.org/api_docs/python/tf/keras/layers/Dense)"
   ]
  },
  {
   "cell_type": "code",
   "execution_count": 159,
   "metadata": {
    "colab": {},
    "colab_type": "code",
    "deletable": false,
    "id": "Rhcns3oTFkM6",
    "nbgrader": {
     "cell_type": "code",
     "checksum": "74b031247e569526552bf13a034a1c07",
     "grade": false,
     "grade_id": "cell-73fceedad1fe351c",
     "locked": false,
     "schema_version": 3,
     "solution": true,
     "task": false
    }
   },
   "outputs": [],
   "source": [
    "## Please uncomment all lines in this cell and replace those marked with `# YOUR CODE HERE`.\n",
    "## You can select all lines in this code cell with Ctrl+A (Windows/Linux) or Cmd+A (Mac), then press Ctrl+/ (Windows/Linux) or Cmd+/ (Mac) to uncomment.\n",
    "\n",
    "\n",
    "\n",
    "def base_model(inputs):\n",
    "    \n",
    "    # connect a Dense layer with 128 neurons and a relu activation\n",
    "    x = tf.keras.layers.Dense(128, activation= tf.nn.relu)(inputs)\n",
    "    \n",
    "    # connect another Dense layer with 128 neurons and a relu activation\n",
    "    x = tf.keras.layers.Dense(128, activation= tf.nn.relu)(x)\n",
    "    return x\n",
    "  "
   ]
  },
  {
   "cell_type": "code",
   "execution_count": 160,
   "metadata": {
    "deletable": false,
    "editable": false,
    "nbgrader": {
     "cell_type": "code",
     "checksum": "9255924b3def80f679616e4c851a43e1",
     "grade": true,
     "grade_id": "cell-54f742a133353d75",
     "locked": true,
     "points": 1,
     "schema_version": 3,
     "solution": false,
     "task": false
    }
   },
   "outputs": [
    {
     "name": "stdout",
     "output_type": "stream",
     "text": [
      "\u001b[92m All public tests passed\n"
     ]
    }
   ],
   "source": [
    "utils.test_base_model(base_model)"
   ]
  },
  {
   "cell_type": "markdown",
   "metadata": {
    "colab_type": "text",
    "id": "xem_fcVws6Kz"
   },
   "source": [
    "# Define output layers of the model (TODO)\n",
    "\n",
    "You will add output layers to the base model. \n",
    "- The model will need two outputs.\n",
    "\n",
    "One output layer will predict wine quality, which is a numeric value.\n",
    "- Define a `Dense` layer with 1 neuron.\n",
    "- Since this is a regression output, the activation can be left as its default value `None`.\n",
    "\n",
    "The other output layer will predict the wine type, which is either red `1` or not red `0` (white).\n",
    "- Define a `Dense` layer with 1 neuron.\n",
    "- Since there are two possible categories, you can use a sigmoid activation for binary classification.\n",
    "\n",
    "Define the `Model`\n",
    "- Define the `Model` object, and set the following parameters:\n",
    "  - `inputs`: pass in the inputs to the model as a list.\n",
    "  - `outputs`: pass in a list of the outputs that you just defined: wine quality, then wine type.\n",
    "  - **Note**: please list the wine quality before wine type in the outputs, as this will affect the calculated loss if you choose the other order."
   ]
  },
  {
   "cell_type": "code",
   "execution_count": 161,
   "metadata": {
    "colab": {},
    "colab_type": "code",
    "deletable": false,
    "id": "n5UGF8PMVLPt",
    "nbgrader": {
     "cell_type": "code",
     "checksum": "76d35b90d20cdcbb22986cd8211057de",
     "grade": false,
     "grade_id": "cell-19e285f482f021fb",
     "locked": false,
     "schema_version": 3,
     "solution": true,
     "task": false
    }
   },
   "outputs": [],
   "source": [
    "## Please uncomment all lines in this cell and replace those marked with `# YOUR CODE HERE`.\n",
    "## You can select all lines in this code cell with Ctrl+A (Windows/Linux) or Cmd+A (Mac), then press Ctrl+/ (Windows/Linux) or Cmd+/ (Mac) to uncomment.\n",
    "\n",
    "\n",
    "\n",
    "def final_model(inputs):\n",
    "    \n",
    "    # get the base model\n",
    "    x = base_model(inputs)\n",
    "\n",
    "    # connect the output Dense layer for regression\n",
    "    wine_quality = Dense(units='1', name='wine_quality')(x)\n",
    "\n",
    "    # connect the output Dense layer for classification. this will use a sigmoid activation.\n",
    "    wine_type = Dense(units='1', activation='sigmoid', name='wine_type')(x)\n",
    "\n",
    "    # define the model using the input and output layers\n",
    "    model = Model(inputs=inputs, outputs=[wine_quality, wine_type])\n",
    "\n",
    "    return model"
   ]
  },
  {
   "cell_type": "code",
   "execution_count": 162,
   "metadata": {
    "deletable": false,
    "editable": false,
    "nbgrader": {
     "cell_type": "code",
     "checksum": "89cbf89d8ab5e2e59ecf7f63f517520a",
     "grade": true,
     "grade_id": "cell-40d050f855c817d1",
     "locked": true,
     "points": 1,
     "schema_version": 3,
     "solution": false,
     "task": false
    }
   },
   "outputs": [
    {
     "name": "stdout",
     "output_type": "stream",
     "text": [
      "\u001b[92m All public tests passed\n"
     ]
    }
   ],
   "source": [
    "utils.test_final_model(final_model)"
   ]
  },
  {
   "cell_type": "markdown",
   "metadata": {
    "colab_type": "text",
    "id": "5R0BMTsltZyu"
   },
   "source": [
    "## Compiling the Model\n",
    "\n",
    "Next, compile the model. When setting the loss parameter of `model.compile`, you're setting the loss for each of the two outputs (wine quality and wine type).\n",
    "\n",
    "To set more than one loss, use a dictionary of key-value pairs.\n",
    "- You can look at the docs for the losses [here](https://www.tensorflow.org/api_docs/python/tf/keras/losses#functions).\n",
    "    - **Note**: For the desired spelling, please look at the \"Functions\" section of the documentation and not the \"classes\" section on that same page.\n",
    "- wine_type: Since you will be performing binary classification on wine type, you should use the binary crossentropy loss function for it.  Please pass this in as a string.  \n",
    "  - **Hint**, this should be all lowercase.  In the documentation, you'll see this under the \"Functions\" section, not the \"Classes\" section.\n",
    "- wine_quality: since this is a regression output, use the mean squared error.  Please pass it in as a string, all lowercase.\n",
    "  - **Hint**: You may notice that there are two aliases for mean squared error.  Please use the shorter name.\n",
    "\n",
    "\n",
    "You will also set the metric for each of the two outputs.  Again, to set metrics for two or more outputs, use a dictionary with key value pairs.\n",
    "- The metrics documentation is linked [here](https://www.tensorflow.org/api_docs/python/tf/keras/metrics).\n",
    "- For the wine type, please set it to accuracy as a string, all lowercase.\n",
    "- For wine quality, please use the root mean squared error.  Instead of a string, you'll set it to an instance of the class [RootMeanSquaredError](https://www.tensorflow.org/api_docs/python/tf/keras/metrics/RootMeanSquaredError), which belongs to the tf.keras.metrics module.\n",
    "\n",
    "**Note**: If you see the error message \n",
    ">Exception: wine quality loss function is incorrect.\n",
    "\n",
    "- Please also check your other losses and metrics, as the error may be caused by the other three key-value pairs and not the wine quality loss."
   ]
  },
  {
   "cell_type": "code",
   "execution_count": 163,
   "metadata": {
    "colab": {},
    "colab_type": "code",
    "deletable": false,
    "id": "LK11duUbUjmh",
    "nbgrader": {
     "cell_type": "code",
     "checksum": "22f45067ca69eb2ccadb43874dbcc27b",
     "grade": false,
     "grade_id": "cell-81afdc4dcca51d5e",
     "locked": false,
     "schema_version": 3,
     "solution": true,
     "task": false
    }
   },
   "outputs": [],
   "source": [
    "## Please uncomment all lines in this cell and replace those marked with `# YOUR CODE HERE`.\n",
    "## You can select all lines in this code cell with Ctrl+A (Windows/Linux) or Cmd+A (Mac), then press Ctrl+/ (Windows/Linux) or Cmd+/ (Mac) to uncomment.\n",
    "\n",
    "\n",
    "\n",
    "# inputs = tf.keras.layers.Input(shape=(11,))\n",
    "# rms = tf.keras.optimizers.RMSprop(lr=0.0001)\n",
    "# model = final_model(inputs)\n",
    "\n",
    "inputs = tf.keras.layers.Input(shape=(11,))\n",
    "rms = tf.keras.optimizers.RMSprop(lr=0.0001)\n",
    "model = final_model(inputs)\n",
    "\n",
    "model.compile(optimizer=rms, \n",
    "              loss = {'wine_type' : 'binary_crossentropy',\n",
    "                      'wine_quality' : 'mean_squared_error'\n",
    "                     },\n",
    "              metrics = {'wine_type' : 'accuracy',\n",
    "                         'wine_quality': tf.keras.metrics.RootMeanSquaredError()\n",
    "                       }\n",
    "             )"
   ]
  },
  {
   "cell_type": "code",
   "execution_count": 164,
   "metadata": {
    "deletable": false,
    "editable": false,
    "nbgrader": {
     "cell_type": "code",
     "checksum": "88e02238ea5e456ff65e835cc8158054",
     "grade": true,
     "grade_id": "cell-2eeeba02391c4632",
     "locked": true,
     "points": 1,
     "schema_version": 3,
     "solution": false,
     "task": false
    }
   },
   "outputs": [
    {
     "name": "stdout",
     "output_type": "stream",
     "text": [
      "\u001b[92m All public tests passed\n"
     ]
    }
   ],
   "source": [
    "utils.test_model_compile(model)"
   ]
  },
  {
   "cell_type": "markdown",
   "metadata": {
    "colab_type": "text",
    "id": "90MpAMpWuKm-"
   },
   "source": [
    "## Training the Model (TODO)\n",
    "\n",
    "Fit the model to the training inputs and outputs. \n",
    "- Check the documentation for [model.fit](https://www.tensorflow.org/api_docs/python/tf/keras/Model#fit).\n",
    "- Remember to use the normalized training set as inputs. \n",
    "- For the validation data, please use the normalized validation set.\n",
    "\n",
    "**Important: Please do not increase the number of epochs below. This is to avoid the grader from timing out. You can increase it once you have submitted your work.**"
   ]
  },
  {
   "cell_type": "code",
   "execution_count": 165,
   "metadata": {
    "colab": {},
    "colab_type": "code",
    "deletable": false,
    "id": "_eiZkle4XwiY",
    "nbgrader": {
     "cell_type": "code",
     "checksum": "d1a4565296017a0611c6f2de675f96cf",
     "grade": false,
     "grade_id": "cell-0bb56262896f6680",
     "locked": false,
     "schema_version": 3,
     "solution": true,
     "task": false
    }
   },
   "outputs": [
    {
     "name": "stdout",
     "output_type": "stream",
     "text": [
      "Train on 3155 samples, validate on 789 samples\n",
      "Epoch 1/180\n",
      "3155/3155 [==============================] - 1s 379us/sample - loss: 23.2934 - wine_quality_loss: 22.6162 - wine_type_loss: 0.6456 - wine_quality_root_mean_squared_error: 4.7589 - wine_type_accuracy: 0.7300 - val_loss: 15.1044 - val_wine_quality_loss: 14.5087 - val_wine_type_loss: 0.6117 - val_wine_quality_root_mean_squared_error: 3.8070 - val_wine_type_accuracy: 0.7313\n",
      "Epoch 2/180\n",
      "3155/3155 [==============================] - 0s 118us/sample - loss: 9.2097 - wine_quality_loss: 8.6380 - wine_type_loss: 0.5619 - wine_quality_root_mean_squared_error: 2.9406 - wine_type_accuracy: 0.7442 - val_loss: 4.8724 - val_wine_quality_loss: 4.4046 - val_wine_type_loss: 0.5207 - val_wine_quality_root_mean_squared_error: 2.0861 - val_wine_type_accuracy: 0.7338\n",
      "Epoch 3/180\n",
      "3155/3155 [==============================] - 0s 105us/sample - loss: 3.6129 - wine_quality_loss: 3.1538 - wine_type_loss: 0.4521 - wine_quality_root_mean_squared_error: 1.7778 - wine_type_accuracy: 0.7702 - val_loss: 2.8976 - val_wine_quality_loss: 2.5473 - val_wine_type_loss: 0.3976 - val_wine_quality_root_mean_squared_error: 1.5812 - val_wine_type_accuracy: 0.8352\n",
      "Epoch 4/180\n",
      "3155/3155 [==============================] - 0s 104us/sample - loss: 2.6226 - wine_quality_loss: 2.3156 - wine_type_loss: 0.3358 - wine_quality_root_mean_squared_error: 1.5121 - wine_type_accuracy: 0.9043 - val_loss: 2.3453 - val_wine_quality_loss: 2.0852 - val_wine_type_loss: 0.2908 - val_wine_quality_root_mean_squared_error: 1.4334 - val_wine_type_accuracy: 0.9417\n",
      "Epoch 5/180\n",
      "3155/3155 [==============================] - 0s 97us/sample - loss: 2.1917 - wine_quality_loss: 1.9373 - wine_type_loss: 0.2523 - wine_quality_root_mean_squared_error: 1.3925 - wine_type_accuracy: 0.9594 - val_loss: 1.9950 - val_wine_quality_loss: 1.7932 - val_wine_type_loss: 0.2238 - val_wine_quality_root_mean_squared_error: 1.3309 - val_wine_type_accuracy: 0.9785\n",
      "Epoch 6/180\n",
      "3155/3155 [==============================] - 0s 120us/sample - loss: 1.8981 - wine_quality_loss: 1.7045 - wine_type_loss: 0.1933 - wine_quality_root_mean_squared_error: 1.3056 - wine_type_accuracy: 0.9778 - val_loss: 1.7479 - val_wine_quality_loss: 1.5904 - val_wine_type_loss: 0.1716 - val_wine_quality_root_mean_squared_error: 1.2555 - val_wine_type_accuracy: 0.9810\n",
      "Epoch 7/180\n",
      "3155/3155 [==============================] - 0s 108us/sample - loss: 1.6953 - wine_quality_loss: 1.5400 - wine_type_loss: 0.1519 - wine_quality_root_mean_squared_error: 1.2422 - wine_type_accuracy: 0.9826 - val_loss: 1.5795 - val_wine_quality_loss: 1.4530 - val_wine_type_loss: 0.1350 - val_wine_quality_root_mean_squared_error: 1.2018 - val_wine_type_accuracy: 0.9848\n",
      "Epoch 8/180\n",
      "3155/3155 [==============================] - 0s 121us/sample - loss: 1.5347 - wine_quality_loss: 1.4152 - wine_type_loss: 0.1222 - wine_quality_root_mean_squared_error: 1.1885 - wine_type_accuracy: 0.9857 - val_loss: 1.4264 - val_wine_quality_loss: 1.3230 - val_wine_type_loss: 0.1091 - val_wine_quality_root_mean_squared_error: 1.1477 - val_wine_type_accuracy: 0.9873\n",
      "Epoch 9/180\n",
      "3155/3155 [==============================] - 0s 123us/sample - loss: 1.4095 - wine_quality_loss: 1.3071 - wine_type_loss: 0.1010 - wine_quality_root_mean_squared_error: 1.1439 - wine_type_accuracy: 0.9876 - val_loss: 1.3237 - val_wine_quality_loss: 1.2362 - val_wine_type_loss: 0.0904 - val_wine_quality_root_mean_squared_error: 1.1104 - val_wine_type_accuracy: 0.9873\n",
      "Epoch 10/180\n",
      "3155/3155 [==============================] - 0s 102us/sample - loss: 1.3082 - wine_quality_loss: 1.2205 - wine_type_loss: 0.0862 - wine_quality_root_mean_squared_error: 1.1054 - wine_type_accuracy: 0.9892 - val_loss: 1.2283 - val_wine_quality_loss: 1.1519 - val_wine_type_loss: 0.0786 - val_wine_quality_root_mean_squared_error: 1.0721 - val_wine_type_accuracy: 0.9873\n",
      "Epoch 11/180\n",
      "3155/3155 [==============================] - 0s 119us/sample - loss: 1.2168 - wine_quality_loss: 1.1386 - wine_type_loss: 0.0758 - wine_quality_root_mean_squared_error: 1.0681 - wine_type_accuracy: 0.9895 - val_loss: 1.1490 - val_wine_quality_loss: 1.0808 - val_wine_type_loss: 0.0688 - val_wine_quality_root_mean_squared_error: 1.0392 - val_wine_type_accuracy: 0.9899\n",
      "Epoch 12/180\n",
      "3155/3155 [==============================] - 0s 99us/sample - loss: 1.1344 - wine_quality_loss: 1.0655 - wine_type_loss: 0.0677 - wine_quality_root_mean_squared_error: 1.0327 - wine_type_accuracy: 0.9902 - val_loss: 1.0849 - val_wine_quality_loss: 1.0229 - val_wine_type_loss: 0.0616 - val_wine_quality_root_mean_squared_error: 1.0114 - val_wine_type_accuracy: 0.9911\n",
      "Epoch 13/180\n",
      "3155/3155 [==============================] - 0s 100us/sample - loss: 1.0640 - wine_quality_loss: 1.0035 - wine_type_loss: 0.0618 - wine_quality_root_mean_squared_error: 1.0011 - wine_type_accuracy: 0.9908 - val_loss: 1.0072 - val_wine_quality_loss: 0.9502 - val_wine_type_loss: 0.0565 - val_wine_quality_root_mean_squared_error: 0.9749 - val_wine_type_accuracy: 0.9911\n",
      "Epoch 14/180\n",
      "3155/3155 [==============================] - 0s 105us/sample - loss: 1.0024 - wine_quality_loss: 0.9498 - wine_type_loss: 0.0574 - wine_quality_root_mean_squared_error: 0.9723 - wine_type_accuracy: 0.9908 - val_loss: 0.9472 - val_wine_quality_loss: 0.8941 - val_wine_type_loss: 0.0522 - val_wine_quality_root_mean_squared_error: 0.9459 - val_wine_type_accuracy: 0.9911\n",
      "Epoch 15/180\n",
      "3155/3155 [==============================] - 0s 117us/sample - loss: 0.9414 - wine_quality_loss: 0.8892 - wine_type_loss: 0.0533 - wine_quality_root_mean_squared_error: 0.9424 - wine_type_accuracy: 0.9921 - val_loss: 0.9048 - val_wine_quality_loss: 0.8550 - val_wine_type_loss: 0.0490 - val_wine_quality_root_mean_squared_error: 0.9250 - val_wine_type_accuracy: 0.9924\n",
      "Epoch 16/180\n",
      "3155/3155 [==============================] - 0s 102us/sample - loss: 0.8916 - wine_quality_loss: 0.8407 - wine_type_loss: 0.0503 - wine_quality_root_mean_squared_error: 0.9172 - wine_type_accuracy: 0.9924 - val_loss: 0.8473 - val_wine_quality_loss: 0.8000 - val_wine_type_loss: 0.0462 - val_wine_quality_root_mean_squared_error: 0.8948 - val_wine_type_accuracy: 0.9924\n",
      "Epoch 17/180\n",
      "3155/3155 [==============================] - 0s 123us/sample - loss: 0.8470 - wine_quality_loss: 0.7986 - wine_type_loss: 0.0476 - wine_quality_root_mean_squared_error: 0.8940 - wine_type_accuracy: 0.9921 - val_loss: 0.8014 - val_wine_quality_loss: 0.7554 - val_wine_type_loss: 0.0444 - val_wine_quality_root_mean_squared_error: 0.8699 - val_wine_type_accuracy: 0.9924\n",
      "Epoch 18/180\n",
      "3155/3155 [==============================] - 0s 105us/sample - loss: 0.8009 - wine_quality_loss: 0.7557 - wine_type_loss: 0.0457 - wine_quality_root_mean_squared_error: 0.8689 - wine_type_accuracy: 0.9927 - val_loss: 0.7616 - val_wine_quality_loss: 0.7174 - val_wine_type_loss: 0.0426 - val_wine_quality_root_mean_squared_error: 0.8477 - val_wine_type_accuracy: 0.9924\n",
      "Epoch 19/180\n",
      "3155/3155 [==============================] - 0s 118us/sample - loss: 0.7582 - wine_quality_loss: 0.7145 - wine_type_loss: 0.0440 - wine_quality_root_mean_squared_error: 0.8452 - wine_type_accuracy: 0.9927 - val_loss: 0.7273 - val_wine_quality_loss: 0.6844 - val_wine_type_loss: 0.0414 - val_wine_quality_root_mean_squared_error: 0.8280 - val_wine_type_accuracy: 0.9924\n",
      "Epoch 20/180\n",
      "3155/3155 [==============================] - 0s 103us/sample - loss: 0.7229 - wine_quality_loss: 0.6799 - wine_type_loss: 0.0425 - wine_quality_root_mean_squared_error: 0.8248 - wine_type_accuracy: 0.9930 - val_loss: 0.6954 - val_wine_quality_loss: 0.6534 - val_wine_type_loss: 0.0400 - val_wine_quality_root_mean_squared_error: 0.8093 - val_wine_type_accuracy: 0.9924\n",
      "Epoch 21/180\n",
      "3155/3155 [==============================] - 0s 97us/sample - loss: 0.6883 - wine_quality_loss: 0.6469 - wine_type_loss: 0.0415 - wine_quality_root_mean_squared_error: 0.8043 - wine_type_accuracy: 0.9927 - val_loss: 0.6548 - val_wine_quality_loss: 0.6143 - val_wine_type_loss: 0.0391 - val_wine_quality_root_mean_squared_error: 0.7845 - val_wine_type_accuracy: 0.9924\n",
      "Epoch 22/180\n",
      "3155/3155 [==============================] - 0s 124us/sample - loss: 0.6548 - wine_quality_loss: 0.6136 - wine_type_loss: 0.0401 - wine_quality_root_mean_squared_error: 0.7839 - wine_type_accuracy: 0.9927 - val_loss: 0.6568 - val_wine_quality_loss: 0.6174 - val_wine_type_loss: 0.0380 - val_wine_quality_root_mean_squared_error: 0.7864 - val_wine_type_accuracy: 0.9949\n",
      "Epoch 23/180\n",
      "3155/3155 [==============================] - 0s 120us/sample - loss: 0.6285 - wine_quality_loss: 0.5892 - wine_type_loss: 0.0390 - wine_quality_root_mean_squared_error: 0.7677 - wine_type_accuracy: 0.9930 - val_loss: 0.6046 - val_wine_quality_loss: 0.5656 - val_wine_type_loss: 0.0372 - val_wine_quality_root_mean_squared_error: 0.7530 - val_wine_type_accuracy: 0.9949\n",
      "Epoch 24/180\n",
      "3155/3155 [==============================] - 0s 99us/sample - loss: 0.5988 - wine_quality_loss: 0.5600 - wine_type_loss: 0.0382 - wine_quality_root_mean_squared_error: 0.7487 - wine_type_accuracy: 0.9930 - val_loss: 0.5812 - val_wine_quality_loss: 0.5425 - val_wine_type_loss: 0.0364 - val_wine_quality_root_mean_squared_error: 0.7378 - val_wine_type_accuracy: 0.9949\n",
      "Epoch 25/180\n",
      "3155/3155 [==============================] - 0s 118us/sample - loss: 0.5748 - wine_quality_loss: 0.5378 - wine_type_loss: 0.0376 - wine_quality_root_mean_squared_error: 0.7331 - wine_type_accuracy: 0.9927 - val_loss: 0.5549 - val_wine_quality_loss: 0.5172 - val_wine_type_loss: 0.0357 - val_wine_quality_root_mean_squared_error: 0.7202 - val_wine_type_accuracy: 0.9949\n",
      "Epoch 26/180\n",
      "3155/3155 [==============================] - 0s 103us/sample - loss: 0.5509 - wine_quality_loss: 0.5139 - wine_type_loss: 0.0366 - wine_quality_root_mean_squared_error: 0.7171 - wine_type_accuracy: 0.9930 - val_loss: 0.5286 - val_wine_quality_loss: 0.4915 - val_wine_type_loss: 0.0354 - val_wine_quality_root_mean_squared_error: 0.7020 - val_wine_type_accuracy: 0.9962\n",
      "Epoch 27/180\n",
      "3155/3155 [==============================] - 0s 116us/sample - loss: 0.5290 - wine_quality_loss: 0.4932 - wine_type_loss: 0.0361 - wine_quality_root_mean_squared_error: 0.7021 - wine_type_accuracy: 0.9937 - val_loss: 0.5173 - val_wine_quality_loss: 0.4803 - val_wine_type_loss: 0.0349 - val_wine_quality_root_mean_squared_error: 0.6943 - val_wine_type_accuracy: 0.9962\n",
      "Epoch 28/180\n",
      "3155/3155 [==============================] - 0s 105us/sample - loss: 0.5091 - wine_quality_loss: 0.4738 - wine_type_loss: 0.0352 - wine_quality_root_mean_squared_error: 0.6883 - wine_type_accuracy: 0.9940 - val_loss: 0.4991 - val_wine_quality_loss: 0.4624 - val_wine_type_loss: 0.0344 - val_wine_quality_root_mean_squared_error: 0.6814 - val_wine_type_accuracy: 0.9962\n",
      "Epoch 29/180\n",
      "3155/3155 [==============================] - 0s 97us/sample - loss: 0.4939 - wine_quality_loss: 0.4601 - wine_type_loss: 0.0348 - wine_quality_root_mean_squared_error: 0.6776 - wine_type_accuracy: 0.9940 - val_loss: 0.4834 - val_wine_quality_loss: 0.4472 - val_wine_type_loss: 0.0342 - val_wine_quality_root_mean_squared_error: 0.6700 - val_wine_type_accuracy: 0.9962\n",
      "Epoch 30/180\n",
      "3155/3155 [==============================] - 0s 119us/sample - loss: 0.4771 - wine_quality_loss: 0.4426 - wine_type_loss: 0.0342 - wine_quality_root_mean_squared_error: 0.6654 - wine_type_accuracy: 0.9943 - val_loss: 0.4725 - val_wine_quality_loss: 0.4364 - val_wine_type_loss: 0.0339 - val_wine_quality_root_mean_squared_error: 0.6619 - val_wine_type_accuracy: 0.9962\n",
      "Epoch 31/180\n",
      "3155/3155 [==============================] - 0s 101us/sample - loss: 0.4630 - wine_quality_loss: 0.4298 - wine_type_loss: 0.0338 - wine_quality_root_mean_squared_error: 0.6550 - wine_type_accuracy: 0.9940 - val_loss: 0.4604 - val_wine_quality_loss: 0.4248 - val_wine_type_loss: 0.0336 - val_wine_quality_root_mean_squared_error: 0.6530 - val_wine_type_accuracy: 0.9962\n",
      "Epoch 32/180\n",
      "3155/3155 [==============================] - 0s 116us/sample - loss: 0.4510 - wine_quality_loss: 0.4181 - wine_type_loss: 0.0333 - wine_quality_root_mean_squared_error: 0.6463 - wine_type_accuracy: 0.9946 - val_loss: 0.4449 - val_wine_quality_loss: 0.4093 - val_wine_type_loss: 0.0334 - val_wine_quality_root_mean_squared_error: 0.6411 - val_wine_type_accuracy: 0.9962\n",
      "Epoch 33/180\n",
      "3155/3155 [==============================] - 0s 106us/sample - loss: 0.4389 - wine_quality_loss: 0.4055 - wine_type_loss: 0.0332 - wine_quality_root_mean_squared_error: 0.6372 - wine_type_accuracy: 0.9943 - val_loss: 0.4410 - val_wine_quality_loss: 0.4054 - val_wine_type_loss: 0.0334 - val_wine_quality_root_mean_squared_error: 0.6381 - val_wine_type_accuracy: 0.9949\n",
      "Epoch 34/180\n",
      "3155/3155 [==============================] - 0s 117us/sample - loss: 0.4285 - wine_quality_loss: 0.3949 - wine_type_loss: 0.0325 - wine_quality_root_mean_squared_error: 0.6292 - wine_type_accuracy: 0.9946 - val_loss: 0.4243 - val_wine_quality_loss: 0.3893 - val_wine_type_loss: 0.0331 - val_wine_quality_root_mean_squared_error: 0.6252 - val_wine_type_accuracy: 0.9949\n",
      "Epoch 35/180\n",
      "3155/3155 [==============================] - 0s 106us/sample - loss: 0.4188 - wine_quality_loss: 0.3868 - wine_type_loss: 0.0322 - wine_quality_root_mean_squared_error: 0.6218 - wine_type_accuracy: 0.9946 - val_loss: 0.4266 - val_wine_quality_loss: 0.3921 - val_wine_type_loss: 0.0329 - val_wine_quality_root_mean_squared_error: 0.6272 - val_wine_type_accuracy: 0.9949\n",
      "Epoch 36/180\n",
      "3155/3155 [==============================] - 0s 120us/sample - loss: 0.4099 - wine_quality_loss: 0.3789 - wine_type_loss: 0.0317 - wine_quality_root_mean_squared_error: 0.6149 - wine_type_accuracy: 0.9946 - val_loss: 0.4139 - val_wine_quality_loss: 0.3792 - val_wine_type_loss: 0.0327 - val_wine_quality_root_mean_squared_error: 0.6171 - val_wine_type_accuracy: 0.9949\n",
      "Epoch 37/180\n",
      "3155/3155 [==============================] - 0s 119us/sample - loss: 0.4026 - wine_quality_loss: 0.3718 - wine_type_loss: 0.0315 - wine_quality_root_mean_squared_error: 0.6091 - wine_type_accuracy: 0.9946 - val_loss: 0.4012 - val_wine_quality_loss: 0.3670 - val_wine_type_loss: 0.0325 - val_wine_quality_root_mean_squared_error: 0.6069 - val_wine_type_accuracy: 0.9937\n",
      "Epoch 38/180\n",
      "3155/3155 [==============================] - 0s 104us/sample - loss: 0.3957 - wine_quality_loss: 0.3649 - wine_type_loss: 0.0311 - wine_quality_root_mean_squared_error: 0.6037 - wine_type_accuracy: 0.9946 - val_loss: 0.3989 - val_wine_quality_loss: 0.3648 - val_wine_type_loss: 0.0323 - val_wine_quality_root_mean_squared_error: 0.6052 - val_wine_type_accuracy: 0.9937\n",
      "Epoch 39/180\n",
      "3155/3155 [==============================] - 0s 101us/sample - loss: 0.3905 - wine_quality_loss: 0.3596 - wine_type_loss: 0.0309 - wine_quality_root_mean_squared_error: 0.5996 - wine_type_accuracy: 0.9946 - val_loss: 0.3968 - val_wine_quality_loss: 0.3627 - val_wine_type_loss: 0.0321 - val_wine_quality_root_mean_squared_error: 0.6036 - val_wine_type_accuracy: 0.9937\n",
      "Epoch 40/180\n",
      "3155/3155 [==============================] - 0s 112us/sample - loss: 0.3846 - wine_quality_loss: 0.3536 - wine_type_loss: 0.0306 - wine_quality_root_mean_squared_error: 0.5950 - wine_type_accuracy: 0.9952 - val_loss: 0.3934 - val_wine_quality_loss: 0.3595 - val_wine_type_loss: 0.0321 - val_wine_quality_root_mean_squared_error: 0.6008 - val_wine_type_accuracy: 0.9937\n",
      "Epoch 41/180\n",
      "3155/3155 [==============================] - 0s 105us/sample - loss: 0.3802 - wine_quality_loss: 0.3496 - wine_type_loss: 0.0303 - wine_quality_root_mean_squared_error: 0.5914 - wine_type_accuracy: 0.9949 - val_loss: 0.3812 - val_wine_quality_loss: 0.3479 - val_wine_type_loss: 0.0318 - val_wine_quality_root_mean_squared_error: 0.5908 - val_wine_type_accuracy: 0.9937\n",
      "Epoch 42/180\n",
      "3155/3155 [==============================] - 0s 100us/sample - loss: 0.3752 - wine_quality_loss: 0.3450 - wine_type_loss: 0.0300 - wine_quality_root_mean_squared_error: 0.5875 - wine_type_accuracy: 0.9952 - val_loss: 0.3828 - val_wine_quality_loss: 0.3496 - val_wine_type_loss: 0.0317 - val_wine_quality_root_mean_squared_error: 0.5922 - val_wine_type_accuracy: 0.9937\n",
      "Epoch 43/180\n",
      "3155/3155 [==============================] - 0s 118us/sample - loss: 0.3701 - wine_quality_loss: 0.3402 - wine_type_loss: 0.0298 - wine_quality_root_mean_squared_error: 0.5833 - wine_type_accuracy: 0.9949 - val_loss: 0.3828 - val_wine_quality_loss: 0.3499 - val_wine_type_loss: 0.0315 - val_wine_quality_root_mean_squared_error: 0.5924 - val_wine_type_accuracy: 0.9937\n",
      "Epoch 44/180\n",
      "3155/3155 [==============================] - 0s 102us/sample - loss: 0.3685 - wine_quality_loss: 0.3381 - wine_type_loss: 0.0295 - wine_quality_root_mean_squared_error: 0.5821 - wine_type_accuracy: 0.9952 - val_loss: 0.3817 - val_wine_quality_loss: 0.3485 - val_wine_type_loss: 0.0315 - val_wine_quality_root_mean_squared_error: 0.5914 - val_wine_type_accuracy: 0.9937\n",
      "Epoch 45/180\n",
      "3155/3155 [==============================] - 0s 112us/sample - loss: 0.3641 - wine_quality_loss: 0.3348 - wine_type_loss: 0.0293 - wine_quality_root_mean_squared_error: 0.5786 - wine_type_accuracy: 0.9952 - val_loss: 0.3805 - val_wine_quality_loss: 0.3474 - val_wine_type_loss: 0.0315 - val_wine_quality_root_mean_squared_error: 0.5904 - val_wine_type_accuracy: 0.9937\n",
      "Epoch 46/180\n",
      "3155/3155 [==============================] - 0s 103us/sample - loss: 0.3613 - wine_quality_loss: 0.3319 - wine_type_loss: 0.0290 - wine_quality_root_mean_squared_error: 0.5764 - wine_type_accuracy: 0.9952 - val_loss: 0.3726 - val_wine_quality_loss: 0.3396 - val_wine_type_loss: 0.0314 - val_wine_quality_root_mean_squared_error: 0.5838 - val_wine_type_accuracy: 0.9937\n",
      "Epoch 47/180\n",
      "3155/3155 [==============================] - 0s 100us/sample - loss: 0.3592 - wine_quality_loss: 0.3302 - wine_type_loss: 0.0288 - wine_quality_root_mean_squared_error: 0.5747 - wine_type_accuracy: 0.9952 - val_loss: 0.3688 - val_wine_quality_loss: 0.3360 - val_wine_type_loss: 0.0311 - val_wine_quality_root_mean_squared_error: 0.5807 - val_wine_type_accuracy: 0.9937\n",
      "Epoch 48/180\n",
      "3155/3155 [==============================] - 0s 117us/sample - loss: 0.3549 - wine_quality_loss: 0.3261 - wine_type_loss: 0.0286 - wine_quality_root_mean_squared_error: 0.5712 - wine_type_accuracy: 0.9952 - val_loss: 0.3708 - val_wine_quality_loss: 0.3381 - val_wine_type_loss: 0.0310 - val_wine_quality_root_mean_squared_error: 0.5826 - val_wine_type_accuracy: 0.9937\n",
      "Epoch 49/180\n",
      "3155/3155 [==============================] - 0s 109us/sample - loss: 0.3519 - wine_quality_loss: 0.3227 - wine_type_loss: 0.0283 - wine_quality_root_mean_squared_error: 0.5687 - wine_type_accuracy: 0.9952 - val_loss: 0.3692 - val_wine_quality_loss: 0.3365 - val_wine_type_loss: 0.0310 - val_wine_quality_root_mean_squared_error: 0.5813 - val_wine_type_accuracy: 0.9937\n",
      "Epoch 50/180\n",
      "3155/3155 [==============================] - 0s 116us/sample - loss: 0.3519 - wine_quality_loss: 0.3238 - wine_type_loss: 0.0282 - wine_quality_root_mean_squared_error: 0.5689 - wine_type_accuracy: 0.9952 - val_loss: 0.3676 - val_wine_quality_loss: 0.3352 - val_wine_type_loss: 0.0309 - val_wine_quality_root_mean_squared_error: 0.5799 - val_wine_type_accuracy: 0.9937\n",
      "Epoch 51/180\n",
      "3155/3155 [==============================] - 0s 125us/sample - loss: 0.3484 - wine_quality_loss: 0.3202 - wine_type_loss: 0.0279 - wine_quality_root_mean_squared_error: 0.5660 - wine_type_accuracy: 0.9952 - val_loss: 0.3649 - val_wine_quality_loss: 0.3328 - val_wine_type_loss: 0.0309 - val_wine_quality_root_mean_squared_error: 0.5776 - val_wine_type_accuracy: 0.9937\n",
      "Epoch 52/180\n",
      "3155/3155 [==============================] - 0s 122us/sample - loss: 0.3484 - wine_quality_loss: 0.3202 - wine_type_loss: 0.0277 - wine_quality_root_mean_squared_error: 0.5662 - wine_type_accuracy: 0.9952 - val_loss: 0.3643 - val_wine_quality_loss: 0.3319 - val_wine_type_loss: 0.0309 - val_wine_quality_root_mean_squared_error: 0.5771 - val_wine_type_accuracy: 0.9937\n",
      "Epoch 53/180\n",
      "3155/3155 [==============================] - 0s 102us/sample - loss: 0.3442 - wine_quality_loss: 0.3164 - wine_type_loss: 0.0275 - wine_quality_root_mean_squared_error: 0.5626 - wine_type_accuracy: 0.9952 - val_loss: 0.3605 - val_wine_quality_loss: 0.3283 - val_wine_type_loss: 0.0308 - val_wine_quality_root_mean_squared_error: 0.5739 - val_wine_type_accuracy: 0.9937\n",
      "Epoch 54/180\n",
      "3155/3155 [==============================] - 0s 119us/sample - loss: 0.3428 - wine_quality_loss: 0.3154 - wine_type_loss: 0.0274 - wine_quality_root_mean_squared_error: 0.5615 - wine_type_accuracy: 0.9952 - val_loss: 0.3632 - val_wine_quality_loss: 0.3311 - val_wine_type_loss: 0.0306 - val_wine_quality_root_mean_squared_error: 0.5764 - val_wine_type_accuracy: 0.9937\n",
      "Epoch 55/180\n",
      "3155/3155 [==============================] - 0s 104us/sample - loss: 0.3421 - wine_quality_loss: 0.3145 - wine_type_loss: 0.0271 - wine_quality_root_mean_squared_error: 0.5612 - wine_type_accuracy: 0.9952 - val_loss: 0.3595 - val_wine_quality_loss: 0.3272 - val_wine_type_loss: 0.0308 - val_wine_quality_root_mean_squared_error: 0.5730 - val_wine_type_accuracy: 0.9937\n",
      "Epoch 56/180\n",
      "3155/3155 [==============================] - 0s 116us/sample - loss: 0.3388 - wine_quality_loss: 0.3121 - wine_type_loss: 0.0270 - wine_quality_root_mean_squared_error: 0.5583 - wine_type_accuracy: 0.9952 - val_loss: 0.3533 - val_wine_quality_loss: 0.3216 - val_wine_type_loss: 0.0303 - val_wine_quality_root_mean_squared_error: 0.5680 - val_wine_type_accuracy: 0.9937\n",
      "Epoch 57/180\n",
      "3155/3155 [==============================] - 0s 105us/sample - loss: 0.3393 - wine_quality_loss: 0.3121 - wine_type_loss: 0.0267 - wine_quality_root_mean_squared_error: 0.5590 - wine_type_accuracy: 0.9952 - val_loss: 0.3597 - val_wine_quality_loss: 0.3279 - val_wine_type_loss: 0.0305 - val_wine_quality_root_mean_squared_error: 0.5735 - val_wine_type_accuracy: 0.9937\n",
      "Epoch 58/180\n",
      "3155/3155 [==============================] - 0s 116us/sample - loss: 0.3375 - wine_quality_loss: 0.3111 - wine_type_loss: 0.0266 - wine_quality_root_mean_squared_error: 0.5575 - wine_type_accuracy: 0.9952 - val_loss: 0.3639 - val_wine_quality_loss: 0.3320 - val_wine_type_loss: 0.0303 - val_wine_quality_root_mean_squared_error: 0.5773 - val_wine_type_accuracy: 0.9937\n",
      "Epoch 59/180\n",
      "3155/3155 [==============================] - 0s 102us/sample - loss: 0.3348 - wine_quality_loss: 0.3085 - wine_type_loss: 0.0264 - wine_quality_root_mean_squared_error: 0.5553 - wine_type_accuracy: 0.9952 - val_loss: 0.3707 - val_wine_quality_loss: 0.3391 - val_wine_type_loss: 0.0302 - val_wine_quality_root_mean_squared_error: 0.5832 - val_wine_type_accuracy: 0.9937\n",
      "Epoch 60/180\n",
      "3155/3155 [==============================] - 0s 122us/sample - loss: 0.3353 - wine_quality_loss: 0.3088 - wine_type_loss: 0.0262 - wine_quality_root_mean_squared_error: 0.5559 - wine_type_accuracy: 0.9952 - val_loss: 0.3533 - val_wine_quality_loss: 0.3220 - val_wine_type_loss: 0.0301 - val_wine_quality_root_mean_squared_error: 0.5681 - val_wine_type_accuracy: 0.9937\n",
      "Epoch 61/180\n",
      "3155/3155 [==============================] - 0s 120us/sample - loss: 0.3333 - wine_quality_loss: 0.3081 - wine_type_loss: 0.0260 - wine_quality_root_mean_squared_error: 0.5542 - wine_type_accuracy: 0.9952 - val_loss: 0.3644 - val_wine_quality_loss: 0.3330 - val_wine_type_loss: 0.0300 - val_wine_quality_root_mean_squared_error: 0.5779 - val_wine_type_accuracy: 0.9937\n",
      "Epoch 62/180\n",
      "3155/3155 [==============================] - 0s 104us/sample - loss: 0.3325 - wine_quality_loss: 0.3069 - wine_type_loss: 0.0258 - wine_quality_root_mean_squared_error: 0.5538 - wine_type_accuracy: 0.9952 - val_loss: 0.3602 - val_wine_quality_loss: 0.3291 - val_wine_type_loss: 0.0299 - val_wine_quality_root_mean_squared_error: 0.5745 - val_wine_type_accuracy: 0.9949\n",
      "Epoch 63/180\n",
      "3155/3155 [==============================] - 0s 121us/sample - loss: 0.3312 - wine_quality_loss: 0.3053 - wine_type_loss: 0.0257 - wine_quality_root_mean_squared_error: 0.5526 - wine_type_accuracy: 0.9952 - val_loss: 0.3561 - val_wine_quality_loss: 0.3248 - val_wine_type_loss: 0.0298 - val_wine_quality_root_mean_squared_error: 0.5708 - val_wine_type_accuracy: 0.9937\n",
      "Epoch 64/180\n",
      "3155/3155 [==============================] - 0s 99us/sample - loss: 0.3294 - wine_quality_loss: 0.3040 - wine_type_loss: 0.0254 - wine_quality_root_mean_squared_error: 0.5512 - wine_type_accuracy: 0.9952 - val_loss: 0.3575 - val_wine_quality_loss: 0.3263 - val_wine_type_loss: 0.0298 - val_wine_quality_root_mean_squared_error: 0.5721 - val_wine_type_accuracy: 0.9937\n",
      "Epoch 65/180\n",
      "3155/3155 [==============================] - 0s 103us/sample - loss: 0.3285 - wine_quality_loss: 0.3036 - wine_type_loss: 0.0253 - wine_quality_root_mean_squared_error: 0.5506 - wine_type_accuracy: 0.9952 - val_loss: 0.3546 - val_wine_quality_loss: 0.3233 - val_wine_type_loss: 0.0300 - val_wine_quality_root_mean_squared_error: 0.5694 - val_wine_type_accuracy: 0.9937\n",
      "Epoch 66/180\n",
      "3155/3155 [==============================] - 0s 121us/sample - loss: 0.3260 - wine_quality_loss: 0.3013 - wine_type_loss: 0.0251 - wine_quality_root_mean_squared_error: 0.5484 - wine_type_accuracy: 0.9952 - val_loss: 0.3789 - val_wine_quality_loss: 0.3475 - val_wine_type_loss: 0.0297 - val_wine_quality_root_mean_squared_error: 0.5906 - val_wine_type_accuracy: 0.9937\n",
      "Epoch 67/180\n",
      "3155/3155 [==============================] - 0s 125us/sample - loss: 0.3259 - wine_quality_loss: 0.3009 - wine_type_loss: 0.0251 - wine_quality_root_mean_squared_error: 0.5485 - wine_type_accuracy: 0.9952 - val_loss: 0.3553 - val_wine_quality_loss: 0.3245 - val_wine_type_loss: 0.0296 - val_wine_quality_root_mean_squared_error: 0.5704 - val_wine_type_accuracy: 0.9937\n",
      "Epoch 68/180\n",
      "3155/3155 [==============================] - 0s 102us/sample - loss: 0.3243 - wine_quality_loss: 0.2992 - wine_type_loss: 0.0274 - wine_quality_root_mean_squared_error: 0.5471 - wine_type_accuracy: 0.9952 - val_loss: 0.3538 - val_wine_quality_loss: 0.3232 - val_wine_type_loss: 0.0294 - val_wine_quality_root_mean_squared_error: 0.5692 - val_wine_type_accuracy: 0.9949\n",
      "Epoch 69/180\n",
      "3155/3155 [==============================] - 0s 125us/sample - loss: 0.3245 - wine_quality_loss: 0.3002 - wine_type_loss: 0.0245 - wine_quality_root_mean_squared_error: 0.5477 - wine_type_accuracy: 0.9956 - val_loss: 0.3482 - val_wine_quality_loss: 0.3173 - val_wine_type_loss: 0.0296 - val_wine_quality_root_mean_squared_error: 0.5641 - val_wine_type_accuracy: 0.9937\n",
      "Epoch 70/180\n",
      "3155/3155 [==============================] - 0s 114us/sample - loss: 0.3242 - wine_quality_loss: 0.2992 - wine_type_loss: 0.0245 - wine_quality_root_mean_squared_error: 0.5474 - wine_type_accuracy: 0.9952 - val_loss: 0.3504 - val_wine_quality_loss: 0.3197 - val_wine_type_loss: 0.0294 - val_wine_quality_root_mean_squared_error: 0.5663 - val_wine_type_accuracy: 0.9937\n",
      "Epoch 71/180\n",
      "3155/3155 [==============================] - 0s 104us/sample - loss: 0.3231 - wine_quality_loss: 0.2996 - wine_type_loss: 0.0257 - wine_quality_root_mean_squared_error: 0.5466 - wine_type_accuracy: 0.9956 - val_loss: 0.3585 - val_wine_quality_loss: 0.3280 - val_wine_type_loss: 0.0293 - val_wine_quality_root_mean_squared_error: 0.5735 - val_wine_type_accuracy: 0.9949\n",
      "Epoch 72/180\n",
      "3155/3155 [==============================] - 0s 102us/sample - loss: 0.3214 - wine_quality_loss: 0.2977 - wine_type_loss: 0.0241 - wine_quality_root_mean_squared_error: 0.5452 - wine_type_accuracy: 0.9956 - val_loss: 0.3469 - val_wine_quality_loss: 0.3168 - val_wine_type_loss: 0.0290 - val_wine_quality_root_mean_squared_error: 0.5635 - val_wine_type_accuracy: 0.9949\n",
      "Epoch 73/180\n",
      "3155/3155 [==============================] - 0s 106us/sample - loss: 0.3207 - wine_quality_loss: 0.2968 - wine_type_loss: 0.0240 - wine_quality_root_mean_squared_error: 0.5447 - wine_type_accuracy: 0.9962 - val_loss: 0.3521 - val_wine_quality_loss: 0.3220 - val_wine_type_loss: 0.0290 - val_wine_quality_root_mean_squared_error: 0.5680 - val_wine_type_accuracy: 0.9949\n",
      "Epoch 74/180\n",
      "3155/3155 [==============================] - 0s 102us/sample - loss: 0.3206 - wine_quality_loss: 0.2967 - wine_type_loss: 0.0237 - wine_quality_root_mean_squared_error: 0.5447 - wine_type_accuracy: 0.9962 - val_loss: 0.3501 - val_wine_quality_loss: 0.3198 - val_wine_type_loss: 0.0291 - val_wine_quality_root_mean_squared_error: 0.5663 - val_wine_type_accuracy: 0.9949\n",
      "Epoch 75/180\n",
      "3155/3155 [==============================] - 0s 116us/sample - loss: 0.3183 - wine_quality_loss: 0.2946 - wine_type_loss: 0.0237 - wine_quality_root_mean_squared_error: 0.5427 - wine_type_accuracy: 0.9962 - val_loss: 0.3484 - val_wine_quality_loss: 0.3182 - val_wine_type_loss: 0.0289 - val_wine_quality_root_mean_squared_error: 0.5649 - val_wine_type_accuracy: 0.9949\n",
      "Epoch 76/180\n",
      "3155/3155 [==============================] - 0s 101us/sample - loss: 0.3176 - wine_quality_loss: 0.2935 - wine_type_loss: 0.0235 - wine_quality_root_mean_squared_error: 0.5422 - wine_type_accuracy: 0.9962 - val_loss: 0.3549 - val_wine_quality_loss: 0.3246 - val_wine_type_loss: 0.0290 - val_wine_quality_root_mean_squared_error: 0.5706 - val_wine_type_accuracy: 0.9949\n",
      "Epoch 77/180\n",
      "3155/3155 [==============================] - 0s 120us/sample - loss: 0.3178 - wine_quality_loss: 0.2942 - wine_type_loss: 0.0234 - wine_quality_root_mean_squared_error: 0.5426 - wine_type_accuracy: 0.9962 - val_loss: 0.3510 - val_wine_quality_loss: 0.3211 - val_wine_type_loss: 0.0287 - val_wine_quality_root_mean_squared_error: 0.5674 - val_wine_type_accuracy: 0.9949\n",
      "Epoch 78/180\n",
      "3155/3155 [==============================] - 0s 104us/sample - loss: 0.3166 - wine_quality_loss: 0.2930 - wine_type_loss: 0.0232 - wine_quality_root_mean_squared_error: 0.5416 - wine_type_accuracy: 0.9962 - val_loss: 0.3499 - val_wine_quality_loss: 0.3198 - val_wine_type_loss: 0.0289 - val_wine_quality_root_mean_squared_error: 0.5662 - val_wine_type_accuracy: 0.9949\n",
      "Epoch 79/180\n",
      "3155/3155 [==============================] - 0s 117us/sample - loss: 0.3162 - wine_quality_loss: 0.2928 - wine_type_loss: 0.0234 - wine_quality_root_mean_squared_error: 0.5413 - wine_type_accuracy: 0.9962 - val_loss: 0.3543 - val_wine_quality_loss: 0.3242 - val_wine_type_loss: 0.0288 - val_wine_quality_root_mean_squared_error: 0.5701 - val_wine_type_accuracy: 0.9949\n",
      "Epoch 80/180\n",
      "3155/3155 [==============================] - 0s 104us/sample - loss: 0.3153 - wine_quality_loss: 0.2924 - wine_type_loss: 0.0229 - wine_quality_root_mean_squared_error: 0.5407 - wine_type_accuracy: 0.9962 - val_loss: 0.3506 - val_wine_quality_loss: 0.3208 - val_wine_type_loss: 0.0286 - val_wine_quality_root_mean_squared_error: 0.5672 - val_wine_type_accuracy: 0.9949\n",
      "Epoch 81/180\n",
      "3155/3155 [==============================] - 0s 116us/sample - loss: 0.3138 - wine_quality_loss: 0.2909 - wine_type_loss: 0.0229 - wine_quality_root_mean_squared_error: 0.5394 - wine_type_accuracy: 0.9962 - val_loss: 0.3477 - val_wine_quality_loss: 0.3180 - val_wine_type_loss: 0.0285 - val_wine_quality_root_mean_squared_error: 0.5646 - val_wine_type_accuracy: 0.9949\n",
      "Epoch 82/180\n",
      "3155/3155 [==============================] - 0s 99us/sample - loss: 0.3133 - wine_quality_loss: 0.2906 - wine_type_loss: 0.0226 - wine_quality_root_mean_squared_error: 0.5391 - wine_type_accuracy: 0.9962 - val_loss: 0.3484 - val_wine_quality_loss: 0.3185 - val_wine_type_loss: 0.0286 - val_wine_quality_root_mean_squared_error: 0.5652 - val_wine_type_accuracy: 0.9949\n",
      "Epoch 83/180\n",
      "3155/3155 [==============================] - 0s 98us/sample - loss: 0.3127 - wine_quality_loss: 0.2897 - wine_type_loss: 0.0225 - wine_quality_root_mean_squared_error: 0.5386 - wine_type_accuracy: 0.9962 - val_loss: 0.3551 - val_wine_quality_loss: 0.3256 - val_wine_type_loss: 0.0284 - val_wine_quality_root_mean_squared_error: 0.5712 - val_wine_type_accuracy: 0.9949\n",
      "Epoch 84/180\n",
      "3155/3155 [==============================] - 0s 124us/sample - loss: 0.3129 - wine_quality_loss: 0.2907 - wine_type_loss: 0.0223 - wine_quality_root_mean_squared_error: 0.5390 - wine_type_accuracy: 0.9962 - val_loss: 0.3452 - val_wine_quality_loss: 0.3156 - val_wine_type_loss: 0.0284 - val_wine_quality_root_mean_squared_error: 0.5625 - val_wine_type_accuracy: 0.9949\n",
      "Epoch 85/180\n",
      "3155/3155 [==============================] - 0s 117us/sample - loss: 0.3120 - wine_quality_loss: 0.2900 - wine_type_loss: 0.0222 - wine_quality_root_mean_squared_error: 0.5383 - wine_type_accuracy: 0.9965 - val_loss: 0.3631 - val_wine_quality_loss: 0.3335 - val_wine_type_loss: 0.0284 - val_wine_quality_root_mean_squared_error: 0.5783 - val_wine_type_accuracy: 0.9949\n",
      "Epoch 86/180\n",
      "3155/3155 [==============================] - 0s 106us/sample - loss: 0.3107 - wine_quality_loss: 0.2888 - wine_type_loss: 0.0221 - wine_quality_root_mean_squared_error: 0.5372 - wine_type_accuracy: 0.9965 - val_loss: 0.3487 - val_wine_quality_loss: 0.3194 - val_wine_type_loss: 0.0281 - val_wine_quality_root_mean_squared_error: 0.5658 - val_wine_type_accuracy: 0.9949\n",
      "Epoch 87/180\n",
      "3155/3155 [==============================] - 0s 121us/sample - loss: 0.3097 - wine_quality_loss: 0.2877 - wine_type_loss: 0.0219 - wine_quality_root_mean_squared_error: 0.5364 - wine_type_accuracy: 0.9962 - val_loss: 0.3470 - val_wine_quality_loss: 0.3176 - val_wine_type_loss: 0.0282 - val_wine_quality_root_mean_squared_error: 0.5643 - val_wine_type_accuracy: 0.9949\n",
      "Epoch 88/180\n",
      "3155/3155 [==============================] - 0s 102us/sample - loss: 0.3096 - wine_quality_loss: 0.2872 - wine_type_loss: 0.0217 - wine_quality_root_mean_squared_error: 0.5365 - wine_type_accuracy: 0.9965 - val_loss: 0.3449 - val_wine_quality_loss: 0.3157 - val_wine_type_loss: 0.0283 - val_wine_quality_root_mean_squared_error: 0.5624 - val_wine_type_accuracy: 0.9949\n",
      "Epoch 89/180\n",
      "3155/3155 [==============================] - 0s 116us/sample - loss: 0.3095 - wine_quality_loss: 0.2884 - wine_type_loss: 0.0216 - wine_quality_root_mean_squared_error: 0.5364 - wine_type_accuracy: 0.9965 - val_loss: 0.3506 - val_wine_quality_loss: 0.3213 - val_wine_type_loss: 0.0283 - val_wine_quality_root_mean_squared_error: 0.5674 - val_wine_type_accuracy: 0.9949\n",
      "Epoch 90/180\n",
      "3155/3155 [==============================] - 0s 103us/sample - loss: 0.3088 - wine_quality_loss: 0.2875 - wine_type_loss: 0.0215 - wine_quality_root_mean_squared_error: 0.5359 - wine_type_accuracy: 0.9965 - val_loss: 0.3467 - val_wine_quality_loss: 0.3172 - val_wine_type_loss: 0.0282 - val_wine_quality_root_mean_squared_error: 0.5640 - val_wine_type_accuracy: 0.9949\n",
      "Epoch 91/180\n",
      "3155/3155 [==============================] - 0s 114us/sample - loss: 0.3086 - wine_quality_loss: 0.2868 - wine_type_loss: 0.0214 - wine_quality_root_mean_squared_error: 0.5358 - wine_type_accuracy: 0.9965 - val_loss: 0.3447 - val_wine_quality_loss: 0.3154 - val_wine_type_loss: 0.0282 - val_wine_quality_root_mean_squared_error: 0.5623 - val_wine_type_accuracy: 0.9949\n",
      "Epoch 92/180\n",
      "3155/3155 [==============================] - 0s 103us/sample - loss: 0.3075 - wine_quality_loss: 0.2855 - wine_type_loss: 0.0212 - wine_quality_root_mean_squared_error: 0.5349 - wine_type_accuracy: 0.9965 - val_loss: 0.3457 - val_wine_quality_loss: 0.3168 - val_wine_type_loss: 0.0281 - val_wine_quality_root_mean_squared_error: 0.5633 - val_wine_type_accuracy: 0.9949\n",
      "Epoch 93/180\n",
      "3155/3155 [==============================] - 0s 102us/sample - loss: 0.3066 - wine_quality_loss: 0.2849 - wine_type_loss: 0.0211 - wine_quality_root_mean_squared_error: 0.5342 - wine_type_accuracy: 0.9965 - val_loss: 0.3530 - val_wine_quality_loss: 0.3237 - val_wine_type_loss: 0.0279 - val_wine_quality_root_mean_squared_error: 0.5698 - val_wine_type_accuracy: 0.9949\n",
      "Epoch 94/180\n",
      "3155/3155 [==============================] - 0s 116us/sample - loss: 0.3057 - wine_quality_loss: 0.2843 - wine_type_loss: 0.0210 - wine_quality_root_mean_squared_error: 0.5336 - wine_type_accuracy: 0.9965 - val_loss: 0.3462 - val_wine_quality_loss: 0.3170 - val_wine_type_loss: 0.0280 - val_wine_quality_root_mean_squared_error: 0.5638 - val_wine_type_accuracy: 0.9949\n",
      "Epoch 95/180\n",
      "3155/3155 [==============================] - 0s 129us/sample - loss: 0.3051 - wine_quality_loss: 0.2846 - wine_type_loss: 0.0209 - wine_quality_root_mean_squared_error: 0.5330 - wine_type_accuracy: 0.9965 - val_loss: 0.3468 - val_wine_quality_loss: 0.3178 - val_wine_type_loss: 0.0279 - val_wine_quality_root_mean_squared_error: 0.5644 - val_wine_type_accuracy: 0.9949\n",
      "Epoch 96/180\n",
      "3155/3155 [==============================] - 0s 100us/sample - loss: 0.3047 - wine_quality_loss: 0.2839 - wine_type_loss: 0.0208 - wine_quality_root_mean_squared_error: 0.5327 - wine_type_accuracy: 0.9965 - val_loss: 0.3488 - val_wine_quality_loss: 0.3201 - val_wine_type_loss: 0.0277 - val_wine_quality_root_mean_squared_error: 0.5664 - val_wine_type_accuracy: 0.9949\n",
      "Epoch 97/180\n",
      "3155/3155 [==============================] - 0s 119us/sample - loss: 0.3034 - wine_quality_loss: 0.2831 - wine_type_loss: 0.0206 - wine_quality_root_mean_squared_error: 0.5316 - wine_type_accuracy: 0.9965 - val_loss: 0.3471 - val_wine_quality_loss: 0.3181 - val_wine_type_loss: 0.0278 - val_wine_quality_root_mean_squared_error: 0.5648 - val_wine_type_accuracy: 0.9949\n",
      "Epoch 98/180\n",
      "3155/3155 [==============================] - 0s 102us/sample - loss: 0.3035 - wine_quality_loss: 0.2825 - wine_type_loss: 0.0205 - wine_quality_root_mean_squared_error: 0.5319 - wine_type_accuracy: 0.9965 - val_loss: 0.3426 - val_wine_quality_loss: 0.3139 - val_wine_type_loss: 0.0276 - val_wine_quality_root_mean_squared_error: 0.5609 - val_wine_type_accuracy: 0.9949\n",
      "Epoch 99/180\n",
      "3155/3155 [==============================] - 0s 119us/sample - loss: 0.3032 - wine_quality_loss: 0.2831 - wine_type_loss: 0.0204 - wine_quality_root_mean_squared_error: 0.5317 - wine_type_accuracy: 0.9965 - val_loss: 0.3505 - val_wine_quality_loss: 0.3215 - val_wine_type_loss: 0.0276 - val_wine_quality_root_mean_squared_error: 0.5679 - val_wine_type_accuracy: 0.9949\n",
      "Epoch 100/180\n",
      "3155/3155 [==============================] - 0s 99us/sample - loss: 0.3023 - wine_quality_loss: 0.2818 - wine_type_loss: 0.0203 - wine_quality_root_mean_squared_error: 0.5309 - wine_type_accuracy: 0.9965 - val_loss: 0.3628 - val_wine_quality_loss: 0.3341 - val_wine_type_loss: 0.0275 - val_wine_quality_root_mean_squared_error: 0.5787 - val_wine_type_accuracy: 0.9949\n",
      "Epoch 101/180\n",
      "3155/3155 [==============================] - 0s 118us/sample - loss: 0.3020 - wine_quality_loss: 0.2823 - wine_type_loss: 0.0202 - wine_quality_root_mean_squared_error: 0.5309 - wine_type_accuracy: 0.9968 - val_loss: 0.3479 - val_wine_quality_loss: 0.3192 - val_wine_type_loss: 0.0275 - val_wine_quality_root_mean_squared_error: 0.5657 - val_wine_type_accuracy: 0.9949\n",
      "Epoch 102/180\n",
      "3155/3155 [==============================] - 0s 105us/sample - loss: 0.3009 - wine_quality_loss: 0.2805 - wine_type_loss: 0.0200 - wine_quality_root_mean_squared_error: 0.5299 - wine_type_accuracy: 0.9965 - val_loss: 0.3488 - val_wine_quality_loss: 0.3202 - val_wine_type_loss: 0.0276 - val_wine_quality_root_mean_squared_error: 0.5664 - val_wine_type_accuracy: 0.9949\n",
      "Epoch 103/180\n",
      "3155/3155 [==============================] - 0s 126us/sample - loss: 0.3016 - wine_quality_loss: 0.2819 - wine_type_loss: 0.0200 - wine_quality_root_mean_squared_error: 0.5306 - wine_type_accuracy: 0.9968 - val_loss: 0.3467 - val_wine_quality_loss: 0.3180 - val_wine_type_loss: 0.0276 - val_wine_quality_root_mean_squared_error: 0.5646 - val_wine_type_accuracy: 0.9949\n",
      "Epoch 104/180\n",
      "3155/3155 [==============================] - 0s 122us/sample - loss: 0.3005 - wine_quality_loss: 0.2813 - wine_type_loss: 0.0199 - wine_quality_root_mean_squared_error: 0.5297 - wine_type_accuracy: 0.9965 - val_loss: 0.3600 - val_wine_quality_loss: 0.3314 - val_wine_type_loss: 0.0275 - val_wine_quality_root_mean_squared_error: 0.5763 - val_wine_type_accuracy: 0.9949\n",
      "Epoch 105/180\n",
      "3155/3155 [==============================] - 0s 122us/sample - loss: 0.2995 - wine_quality_loss: 0.2794 - wine_type_loss: 0.0197 - wine_quality_root_mean_squared_error: 0.5289 - wine_type_accuracy: 0.9965 - val_loss: 0.3456 - val_wine_quality_loss: 0.3173 - val_wine_type_loss: 0.0272 - val_wine_quality_root_mean_squared_error: 0.5639 - val_wine_type_accuracy: 0.9949\n",
      "Epoch 106/180\n",
      "3155/3155 [==============================] - 0s 104us/sample - loss: 0.2993 - wine_quality_loss: 0.2792 - wine_type_loss: 0.0196 - wine_quality_root_mean_squared_error: 0.5288 - wine_type_accuracy: 0.9968 - val_loss: 0.3482 - val_wine_quality_loss: 0.3200 - val_wine_type_loss: 0.0273 - val_wine_quality_root_mean_squared_error: 0.5662 - val_wine_type_accuracy: 0.9949\n",
      "Epoch 107/180\n",
      "3155/3155 [==============================] - 0s 121us/sample - loss: 0.2990 - wine_quality_loss: 0.2790 - wine_type_loss: 0.0195 - wine_quality_root_mean_squared_error: 0.5286 - wine_type_accuracy: 0.9968 - val_loss: 0.3494 - val_wine_quality_loss: 0.3212 - val_wine_type_loss: 0.0272 - val_wine_quality_root_mean_squared_error: 0.5673 - val_wine_type_accuracy: 0.9949\n",
      "Epoch 108/180\n",
      "3155/3155 [==============================] - 0s 102us/sample - loss: 0.2982 - wine_quality_loss: 0.2783 - wine_type_loss: 0.0194 - wine_quality_root_mean_squared_error: 0.5279 - wine_type_accuracy: 0.9968 - val_loss: 0.3447 - val_wine_quality_loss: 0.3165 - val_wine_type_loss: 0.0272 - val_wine_quality_root_mean_squared_error: 0.5632 - val_wine_type_accuracy: 0.9949\n",
      "Epoch 109/180\n",
      "3155/3155 [==============================] - 0s 122us/sample - loss: 0.2975 - wine_quality_loss: 0.2782 - wine_type_loss: 0.0192 - wine_quality_root_mean_squared_error: 0.5274 - wine_type_accuracy: 0.9968 - val_loss: 0.3427 - val_wine_quality_loss: 0.3142 - val_wine_type_loss: 0.0274 - val_wine_quality_root_mean_squared_error: 0.5612 - val_wine_type_accuracy: 0.9949\n",
      "Epoch 110/180\n",
      "3155/3155 [==============================] - 0s 122us/sample - loss: 0.2967 - wine_quality_loss: 0.2775 - wine_type_loss: 0.0193 - wine_quality_root_mean_squared_error: 0.5267 - wine_type_accuracy: 0.9968 - val_loss: 0.3424 - val_wine_quality_loss: 0.3140 - val_wine_type_loss: 0.0273 - val_wine_quality_root_mean_squared_error: 0.5610 - val_wine_type_accuracy: 0.9949\n",
      "Epoch 111/180\n",
      "3155/3155 [==============================] - 0s 105us/sample - loss: 0.2957 - wine_quality_loss: 0.2768 - wine_type_loss: 0.0192 - wine_quality_root_mean_squared_error: 0.5258 - wine_type_accuracy: 0.9968 - val_loss: 0.3480 - val_wine_quality_loss: 0.3196 - val_wine_type_loss: 0.0271 - val_wine_quality_root_mean_squared_error: 0.5661 - val_wine_type_accuracy: 0.9949\n",
      "Epoch 112/180\n",
      "3155/3155 [==============================] - 0s 124us/sample - loss: 0.2962 - wine_quality_loss: 0.2770 - wine_type_loss: 0.0190 - wine_quality_root_mean_squared_error: 0.5264 - wine_type_accuracy: 0.9968 - val_loss: 0.3455 - val_wine_quality_loss: 0.3173 - val_wine_type_loss: 0.0273 - val_wine_quality_root_mean_squared_error: 0.5638 - val_wine_type_accuracy: 0.9949\n",
      "Epoch 113/180\n",
      "3155/3155 [==============================] - 0s 117us/sample - loss: 0.2954 - wine_quality_loss: 0.2766 - wine_type_loss: 0.0190 - wine_quality_root_mean_squared_error: 0.5257 - wine_type_accuracy: 0.9968 - val_loss: 0.3545 - val_wine_quality_loss: 0.3258 - val_wine_type_loss: 0.0273 - val_wine_quality_root_mean_squared_error: 0.5716 - val_wine_type_accuracy: 0.9949\n",
      "Epoch 114/180\n",
      "3155/3155 [==============================] - 0s 104us/sample - loss: 0.2955 - wine_quality_loss: 0.2766 - wine_type_loss: 0.0189 - wine_quality_root_mean_squared_error: 0.5258 - wine_type_accuracy: 0.9965 - val_loss: 0.3487 - val_wine_quality_loss: 0.3206 - val_wine_type_loss: 0.0272 - val_wine_quality_root_mean_squared_error: 0.5667 - val_wine_type_accuracy: 0.9949\n",
      "Epoch 115/180\n",
      "3155/3155 [==============================] - 0s 119us/sample - loss: 0.2937 - wine_quality_loss: 0.2750 - wine_type_loss: 0.0188 - wine_quality_root_mean_squared_error: 0.5242 - wine_type_accuracy: 0.9968 - val_loss: 0.3511 - val_wine_quality_loss: 0.3230 - val_wine_type_loss: 0.0271 - val_wine_quality_root_mean_squared_error: 0.5689 - val_wine_type_accuracy: 0.9949\n",
      "Epoch 116/180\n",
      "3155/3155 [==============================] - 0s 99us/sample - loss: 0.2934 - wine_quality_loss: 0.2746 - wine_type_loss: 0.0187 - wine_quality_root_mean_squared_error: 0.5241 - wine_type_accuracy: 0.9968 - val_loss: 0.3437 - val_wine_quality_loss: 0.3156 - val_wine_type_loss: 0.0270 - val_wine_quality_root_mean_squared_error: 0.5624 - val_wine_type_accuracy: 0.9949\n",
      "Epoch 117/180\n",
      "3155/3155 [==============================] - 0s 106us/sample - loss: 0.2935 - wine_quality_loss: 0.2749 - wine_type_loss: 0.0194 - wine_quality_root_mean_squared_error: 0.5242 - wine_type_accuracy: 0.9968 - val_loss: 0.3475 - val_wine_quality_loss: 0.3195 - val_wine_type_loss: 0.0268 - val_wine_quality_root_mean_squared_error: 0.5659 - val_wine_type_accuracy: 0.9949\n",
      "Epoch 118/180\n",
      "3155/3155 [==============================] - 0s 115us/sample - loss: 0.2926 - wine_quality_loss: 0.2739 - wine_type_loss: 0.0185 - wine_quality_root_mean_squared_error: 0.5235 - wine_type_accuracy: 0.9968 - val_loss: 0.3485 - val_wine_quality_loss: 0.3208 - val_wine_type_loss: 0.0269 - val_wine_quality_root_mean_squared_error: 0.5667 - val_wine_type_accuracy: 0.9949\n",
      "Epoch 119/180\n",
      "3155/3155 [==============================] - 0s 118us/sample - loss: 0.2933 - wine_quality_loss: 0.2747 - wine_type_loss: 0.0184 - wine_quality_root_mean_squared_error: 0.5242 - wine_type_accuracy: 0.9968 - val_loss: 0.3416 - val_wine_quality_loss: 0.3137 - val_wine_type_loss: 0.0269 - val_wine_quality_root_mean_squared_error: 0.5608 - val_wine_type_accuracy: 0.9949\n",
      "Epoch 120/180\n",
      "3155/3155 [==============================] - 0s 109us/sample - loss: 0.2920 - wine_quality_loss: 0.2738 - wine_type_loss: 0.0183 - wine_quality_root_mean_squared_error: 0.5231 - wine_type_accuracy: 0.9968 - val_loss: 0.3502 - val_wine_quality_loss: 0.3224 - val_wine_type_loss: 0.0269 - val_wine_quality_root_mean_squared_error: 0.5684 - val_wine_type_accuracy: 0.9949\n",
      "Epoch 121/180\n",
      "3155/3155 [==============================] - 0s 117us/sample - loss: 0.2919 - wine_quality_loss: 0.2734 - wine_type_loss: 0.0183 - wine_quality_root_mean_squared_error: 0.5230 - wine_type_accuracy: 0.9968 - val_loss: 0.3494 - val_wine_quality_loss: 0.3214 - val_wine_type_loss: 0.0269 - val_wine_quality_root_mean_squared_error: 0.5676 - val_wine_type_accuracy: 0.9949\n",
      "Epoch 122/180\n",
      "3155/3155 [==============================] - 0s 120us/sample - loss: 0.2911 - wine_quality_loss: 0.2730 - wine_type_loss: 0.0185 - wine_quality_root_mean_squared_error: 0.5224 - wine_type_accuracy: 0.9968 - val_loss: 0.3564 - val_wine_quality_loss: 0.3285 - val_wine_type_loss: 0.0270 - val_wine_quality_root_mean_squared_error: 0.5737 - val_wine_type_accuracy: 0.9949\n",
      "Epoch 123/180\n",
      "3155/3155 [==============================] - 0s 104us/sample - loss: 0.2908 - wine_quality_loss: 0.2731 - wine_type_loss: 0.0181 - wine_quality_root_mean_squared_error: 0.5222 - wine_type_accuracy: 0.9968 - val_loss: 0.3471 - val_wine_quality_loss: 0.3192 - val_wine_type_loss: 0.0269 - val_wine_quality_root_mean_squared_error: 0.5656 - val_wine_type_accuracy: 0.9949\n",
      "Epoch 124/180\n",
      "3155/3155 [==============================] - 0s 118us/sample - loss: 0.2908 - wine_quality_loss: 0.2729 - wine_type_loss: 0.0180 - wine_quality_root_mean_squared_error: 0.5223 - wine_type_accuracy: 0.9968 - val_loss: 0.3469 - val_wine_quality_loss: 0.3191 - val_wine_type_loss: 0.0269 - val_wine_quality_root_mean_squared_error: 0.5654 - val_wine_type_accuracy: 0.9949\n",
      "Epoch 125/180\n",
      "3155/3155 [==============================] - 0s 109us/sample - loss: 0.2901 - wine_quality_loss: 0.2724 - wine_type_loss: 0.0179 - wine_quality_root_mean_squared_error: 0.5218 - wine_type_accuracy: 0.9968 - val_loss: 0.3452 - val_wine_quality_loss: 0.3171 - val_wine_type_loss: 0.0271 - val_wine_quality_root_mean_squared_error: 0.5638 - val_wine_type_accuracy: 0.9949\n",
      "Epoch 126/180\n",
      "3155/3155 [==============================] - 0s 125us/sample - loss: 0.2894 - wine_quality_loss: 0.2720 - wine_type_loss: 0.0178 - wine_quality_root_mean_squared_error: 0.5211 - wine_type_accuracy: 0.9968 - val_loss: 0.3504 - val_wine_quality_loss: 0.3223 - val_wine_type_loss: 0.0270 - val_wine_quality_root_mean_squared_error: 0.5684 - val_wine_type_accuracy: 0.9949\n",
      "Epoch 127/180\n",
      "3155/3155 [==============================] - 0s 123us/sample - loss: 0.2892 - wine_quality_loss: 0.2709 - wine_type_loss: 0.0178 - wine_quality_root_mean_squared_error: 0.5209 - wine_type_accuracy: 0.9968 - val_loss: 0.3526 - val_wine_quality_loss: 0.3245 - val_wine_type_loss: 0.0270 - val_wine_quality_root_mean_squared_error: 0.5704 - val_wine_type_accuracy: 0.9949\n",
      "Epoch 128/180\n",
      "3155/3155 [==============================] - 0s 124us/sample - loss: 0.2875 - wine_quality_loss: 0.2697 - wine_type_loss: 0.0176 - wine_quality_root_mean_squared_error: 0.5195 - wine_type_accuracy: 0.9968 - val_loss: 0.3533 - val_wine_quality_loss: 0.3253 - val_wine_type_loss: 0.0270 - val_wine_quality_root_mean_squared_error: 0.5709 - val_wine_type_accuracy: 0.9949\n",
      "Epoch 129/180\n",
      "3155/3155 [==============================] - 0s 121us/sample - loss: 0.2879 - wine_quality_loss: 0.2700 - wine_type_loss: 0.0176 - wine_quality_root_mean_squared_error: 0.5199 - wine_type_accuracy: 0.9968 - val_loss: 0.3484 - val_wine_quality_loss: 0.3203 - val_wine_type_loss: 0.0270 - val_wine_quality_root_mean_squared_error: 0.5667 - val_wine_type_accuracy: 0.9949\n",
      "Epoch 130/180\n",
      "3155/3155 [==============================] - 0s 109us/sample - loss: 0.2876 - wine_quality_loss: 0.2702 - wine_type_loss: 0.0175 - wine_quality_root_mean_squared_error: 0.5196 - wine_type_accuracy: 0.9968 - val_loss: 0.3498 - val_wine_quality_loss: 0.3219 - val_wine_type_loss: 0.0270 - val_wine_quality_root_mean_squared_error: 0.5679 - val_wine_type_accuracy: 0.9949\n",
      "Epoch 131/180\n",
      "3155/3155 [==============================] - 0s 121us/sample - loss: 0.2876 - wine_quality_loss: 0.2696 - wine_type_loss: 0.0174 - wine_quality_root_mean_squared_error: 0.5197 - wine_type_accuracy: 0.9968 - val_loss: 0.3484 - val_wine_quality_loss: 0.3204 - val_wine_type_loss: 0.0270 - val_wine_quality_root_mean_squared_error: 0.5666 - val_wine_type_accuracy: 0.9949\n",
      "Epoch 132/180\n",
      "3155/3155 [==============================] - 0s 120us/sample - loss: 0.2871 - wine_quality_loss: 0.2693 - wine_type_loss: 0.0173 - wine_quality_root_mean_squared_error: 0.5193 - wine_type_accuracy: 0.9968 - val_loss: 0.3414 - val_wine_quality_loss: 0.3136 - val_wine_type_loss: 0.0270 - val_wine_quality_root_mean_squared_error: 0.5604 - val_wine_type_accuracy: 0.9949\n",
      "Epoch 133/180\n",
      "3155/3155 [==============================] - 0s 106us/sample - loss: 0.2858 - wine_quality_loss: 0.2681 - wine_type_loss: 0.0173 - wine_quality_root_mean_squared_error: 0.5181 - wine_type_accuracy: 0.9968 - val_loss: 0.3486 - val_wine_quality_loss: 0.3207 - val_wine_type_loss: 0.0269 - val_wine_quality_root_mean_squared_error: 0.5670 - val_wine_type_accuracy: 0.9949\n",
      "Epoch 134/180\n",
      "3155/3155 [==============================] - 0s 122us/sample - loss: 0.2860 - wine_quality_loss: 0.2686 - wine_type_loss: 0.0173 - wine_quality_root_mean_squared_error: 0.5184 - wine_type_accuracy: 0.9968 - val_loss: 0.3546 - val_wine_quality_loss: 0.3268 - val_wine_type_loss: 0.0268 - val_wine_quality_root_mean_squared_error: 0.5723 - val_wine_type_accuracy: 0.9949\n",
      "Epoch 135/180\n",
      "3155/3155 [==============================] - 0s 127us/sample - loss: 0.2859 - wine_quality_loss: 0.2682 - wine_type_loss: 0.0171 - wine_quality_root_mean_squared_error: 0.5184 - wine_type_accuracy: 0.9968 - val_loss: 0.3418 - val_wine_quality_loss: 0.3140 - val_wine_type_loss: 0.0268 - val_wine_quality_root_mean_squared_error: 0.5610 - val_wine_type_accuracy: 0.9949\n",
      "Epoch 136/180\n",
      "3155/3155 [==============================] - 0s 123us/sample - loss: 0.2858 - wine_quality_loss: 0.2686 - wine_type_loss: 0.0170 - wine_quality_root_mean_squared_error: 0.5184 - wine_type_accuracy: 0.9968 - val_loss: 0.3496 - val_wine_quality_loss: 0.3220 - val_wine_type_loss: 0.0267 - val_wine_quality_root_mean_squared_error: 0.5679 - val_wine_type_accuracy: 0.9949\n",
      "Epoch 137/180\n",
      "3155/3155 [==============================] - 0s 125us/sample - loss: 0.2852 - wine_quality_loss: 0.2684 - wine_type_loss: 0.0169 - wine_quality_root_mean_squared_error: 0.5179 - wine_type_accuracy: 0.9968 - val_loss: 0.3481 - val_wine_quality_loss: 0.3204 - val_wine_type_loss: 0.0267 - val_wine_quality_root_mean_squared_error: 0.5667 - val_wine_type_accuracy: 0.9949\n",
      "Epoch 138/180\n",
      "3155/3155 [==============================] - 0s 127us/sample - loss: 0.2844 - wine_quality_loss: 0.2674 - wine_type_loss: 0.0169 - wine_quality_root_mean_squared_error: 0.5172 - wine_type_accuracy: 0.9968 - val_loss: 0.3522 - val_wine_quality_loss: 0.3244 - val_wine_type_loss: 0.0270 - val_wine_quality_root_mean_squared_error: 0.5700 - val_wine_type_accuracy: 0.9949\n",
      "Epoch 139/180\n",
      "3155/3155 [==============================] - 0s 122us/sample - loss: 0.2844 - wine_quality_loss: 0.2672 - wine_type_loss: 0.0168 - wine_quality_root_mean_squared_error: 0.5172 - wine_type_accuracy: 0.9968 - val_loss: 0.3430 - val_wine_quality_loss: 0.3154 - val_wine_type_loss: 0.0268 - val_wine_quality_root_mean_squared_error: 0.5620 - val_wine_type_accuracy: 0.9949\n",
      "Epoch 140/180\n",
      "3155/3155 [==============================] - 0s 101us/sample - loss: 0.2849 - wine_quality_loss: 0.2680 - wine_type_loss: 0.0167 - wine_quality_root_mean_squared_error: 0.5178 - wine_type_accuracy: 0.9968 - val_loss: 0.3453 - val_wine_quality_loss: 0.3175 - val_wine_type_loss: 0.0268 - val_wine_quality_root_mean_squared_error: 0.5641 - val_wine_type_accuracy: 0.9949\n",
      "Epoch 141/180\n",
      "3155/3155 [==============================] - 0s 117us/sample - loss: 0.2836 - wine_quality_loss: 0.2670 - wine_type_loss: 0.0167 - wine_quality_root_mean_squared_error: 0.5166 - wine_type_accuracy: 0.9968 - val_loss: 0.3478 - val_wine_quality_loss: 0.3196 - val_wine_type_loss: 0.0270 - val_wine_quality_root_mean_squared_error: 0.5661 - val_wine_type_accuracy: 0.9949\n",
      "Epoch 142/180\n",
      "3155/3155 [==============================] - 0s 105us/sample - loss: 0.2822 - wine_quality_loss: 0.2662 - wine_type_loss: 0.0167 - wine_quality_root_mean_squared_error: 0.5153 - wine_type_accuracy: 0.9968 - val_loss: 0.3540 - val_wine_quality_loss: 0.3260 - val_wine_type_loss: 0.0268 - val_wine_quality_root_mean_squared_error: 0.5717 - val_wine_type_accuracy: 0.9949\n",
      "Epoch 143/180\n",
      "3155/3155 [==============================] - 0s 118us/sample - loss: 0.2815 - wine_quality_loss: 0.2649 - wine_type_loss: 0.0165 - wine_quality_root_mean_squared_error: 0.5148 - wine_type_accuracy: 0.9968 - val_loss: 0.3437 - val_wine_quality_loss: 0.3160 - val_wine_type_loss: 0.0268 - val_wine_quality_root_mean_squared_error: 0.5627 - val_wine_type_accuracy: 0.9949\n",
      "Epoch 144/180\n",
      "3155/3155 [==============================] - 0s 106us/sample - loss: 0.2816 - wine_quality_loss: 0.2651 - wine_type_loss: 0.0164 - wine_quality_root_mean_squared_error: 0.5149 - wine_type_accuracy: 0.9968 - val_loss: 0.3509 - val_wine_quality_loss: 0.3232 - val_wine_type_loss: 0.0266 - val_wine_quality_root_mean_squared_error: 0.5691 - val_wine_type_accuracy: 0.9949\n",
      "Epoch 145/180\n",
      "3155/3155 [==============================] - 0s 122us/sample - loss: 0.2825 - wine_quality_loss: 0.2662 - wine_type_loss: 0.0163 - wine_quality_root_mean_squared_error: 0.5159 - wine_type_accuracy: 0.9968 - val_loss: 0.3439 - val_wine_quality_loss: 0.3162 - val_wine_type_loss: 0.0267 - val_wine_quality_root_mean_squared_error: 0.5629 - val_wine_type_accuracy: 0.9949\n",
      "Epoch 146/180\n",
      "3155/3155 [==============================] - 0s 98us/sample - loss: 0.2823 - wine_quality_loss: 0.2664 - wine_type_loss: 0.0163 - wine_quality_root_mean_squared_error: 0.5157 - wine_type_accuracy: 0.9968 - val_loss: 0.3454 - val_wine_quality_loss: 0.3178 - val_wine_type_loss: 0.0267 - val_wine_quality_root_mean_squared_error: 0.5642 - val_wine_type_accuracy: 0.9949\n",
      "Epoch 147/180\n",
      "3155/3155 [==============================] - 0s 118us/sample - loss: 0.2812 - wine_quality_loss: 0.2652 - wine_type_loss: 0.0162 - wine_quality_root_mean_squared_error: 0.5147 - wine_type_accuracy: 0.9968 - val_loss: 0.3445 - val_wine_quality_loss: 0.3169 - val_wine_type_loss: 0.0266 - val_wine_quality_root_mean_squared_error: 0.5635 - val_wine_type_accuracy: 0.9949\n",
      "Epoch 148/180\n",
      "3155/3155 [==============================] - 0s 101us/sample - loss: 0.2794 - wine_quality_loss: 0.2631 - wine_type_loss: 0.0161 - wine_quality_root_mean_squared_error: 0.5131 - wine_type_accuracy: 0.9968 - val_loss: 0.3422 - val_wine_quality_loss: 0.3147 - val_wine_type_loss: 0.0268 - val_wine_quality_root_mean_squared_error: 0.5613 - val_wine_type_accuracy: 0.9949\n",
      "Epoch 149/180\n",
      "3155/3155 [==============================] - 0s 113us/sample - loss: 0.2804 - wine_quality_loss: 0.2644 - wine_type_loss: 0.0161 - wine_quality_root_mean_squared_error: 0.5141 - wine_type_accuracy: 0.9968 - val_loss: 0.3443 - val_wine_quality_loss: 0.3168 - val_wine_type_loss: 0.0267 - val_wine_quality_root_mean_squared_error: 0.5633 - val_wine_type_accuracy: 0.9949\n",
      "Epoch 150/180\n",
      "3155/3155 [==============================] - 0s 99us/sample - loss: 0.2797 - wine_quality_loss: 0.2636 - wine_type_loss: 0.0160 - wine_quality_root_mean_squared_error: 0.5134 - wine_type_accuracy: 0.9968 - val_loss: 0.3467 - val_wine_quality_loss: 0.3190 - val_wine_type_loss: 0.0268 - val_wine_quality_root_mean_squared_error: 0.5653 - val_wine_type_accuracy: 0.9949\n",
      "Epoch 151/180\n",
      "3155/3155 [==============================] - 0s 105us/sample - loss: 0.2792 - wine_quality_loss: 0.2635 - wine_type_loss: 0.0159 - wine_quality_root_mean_squared_error: 0.5130 - wine_type_accuracy: 0.9968 - val_loss: 0.3511 - val_wine_quality_loss: 0.3235 - val_wine_type_loss: 0.0268 - val_wine_quality_root_mean_squared_error: 0.5692 - val_wine_type_accuracy: 0.9949\n",
      "Epoch 152/180\n",
      "3155/3155 [==============================] - 0s 117us/sample - loss: 0.2796 - wine_quality_loss: 0.2635 - wine_type_loss: 0.0159 - wine_quality_root_mean_squared_error: 0.5135 - wine_type_accuracy: 0.9968 - val_loss: 0.3604 - val_wine_quality_loss: 0.3329 - val_wine_type_loss: 0.0268 - val_wine_quality_root_mean_squared_error: 0.5773 - val_wine_type_accuracy: 0.9949\n",
      "Epoch 153/180\n",
      "3155/3155 [==============================] - 0s 124us/sample - loss: 0.2791 - wine_quality_loss: 0.2630 - wine_type_loss: 0.0158 - wine_quality_root_mean_squared_error: 0.5130 - wine_type_accuracy: 0.9968 - val_loss: 0.3450 - val_wine_quality_loss: 0.3176 - val_wine_type_loss: 0.0267 - val_wine_quality_root_mean_squared_error: 0.5639 - val_wine_type_accuracy: 0.9949\n",
      "Epoch 154/180\n",
      "3155/3155 [==============================] - 0s 106us/sample - loss: 0.2776 - wine_quality_loss: 0.2617 - wine_type_loss: 0.0157 - wine_quality_root_mean_squared_error: 0.5116 - wine_type_accuracy: 0.9968 - val_loss: 0.3426 - val_wine_quality_loss: 0.3151 - val_wine_type_loss: 0.0266 - val_wine_quality_root_mean_squared_error: 0.5619 - val_wine_type_accuracy: 0.9949\n",
      "Epoch 155/180\n",
      "3155/3155 [==============================] - 0s 120us/sample - loss: 0.2786 - wine_quality_loss: 0.2624 - wine_type_loss: 0.0157 - wine_quality_root_mean_squared_error: 0.5127 - wine_type_accuracy: 0.9968 - val_loss: 0.3562 - val_wine_quality_loss: 0.3284 - val_wine_type_loss: 0.0268 - val_wine_quality_root_mean_squared_error: 0.5736 - val_wine_type_accuracy: 0.9962\n",
      "Epoch 156/180\n",
      "3155/3155 [==============================] - 0s 121us/sample - loss: 0.2778 - wine_quality_loss: 0.2619 - wine_type_loss: 0.0156 - wine_quality_root_mean_squared_error: 0.5120 - wine_type_accuracy: 0.9968 - val_loss: 0.3428 - val_wine_quality_loss: 0.3150 - val_wine_type_loss: 0.0267 - val_wine_quality_root_mean_squared_error: 0.5619 - val_wine_type_accuracy: 0.9949\n",
      "Epoch 157/180\n",
      "3155/3155 [==============================] - 0s 102us/sample - loss: 0.2769 - wine_quality_loss: 0.2615 - wine_type_loss: 0.0156 - wine_quality_root_mean_squared_error: 0.5111 - wine_type_accuracy: 0.9968 - val_loss: 0.3699 - val_wine_quality_loss: 0.3421 - val_wine_type_loss: 0.0269 - val_wine_quality_root_mean_squared_error: 0.5854 - val_wine_type_accuracy: 0.9962\n",
      "Epoch 158/180\n",
      "3155/3155 [==============================] - 0s 103us/sample - loss: 0.2773 - wine_quality_loss: 0.2616 - wine_type_loss: 0.0155 - wine_quality_root_mean_squared_error: 0.5116 - wine_type_accuracy: 0.9968 - val_loss: 0.3503 - val_wine_quality_loss: 0.3226 - val_wine_type_loss: 0.0268 - val_wine_quality_root_mean_squared_error: 0.5684 - val_wine_type_accuracy: 0.9962\n",
      "Epoch 159/180\n",
      "3155/3155 [==============================] - 0s 119us/sample - loss: 0.2769 - wine_quality_loss: 0.2615 - wine_type_loss: 0.0155 - wine_quality_root_mean_squared_error: 0.5113 - wine_type_accuracy: 0.9971 - val_loss: 0.3436 - val_wine_quality_loss: 0.3160 - val_wine_type_loss: 0.0265 - val_wine_quality_root_mean_squared_error: 0.5628 - val_wine_type_accuracy: 0.9937\n",
      "Epoch 160/180\n",
      "3155/3155 [==============================] - 0s 100us/sample - loss: 0.2776 - wine_quality_loss: 0.2624 - wine_type_loss: 0.0154 - wine_quality_root_mean_squared_error: 0.5120 - wine_type_accuracy: 0.9965 - val_loss: 0.3427 - val_wine_quality_loss: 0.3150 - val_wine_type_loss: 0.0267 - val_wine_quality_root_mean_squared_error: 0.5619 - val_wine_type_accuracy: 0.9962\n",
      "Epoch 161/180\n",
      "3155/3155 [==============================] - 0s 118us/sample - loss: 0.2761 - wine_quality_loss: 0.2610 - wine_type_loss: 0.0154 - wine_quality_root_mean_squared_error: 0.5105 - wine_type_accuracy: 0.9968 - val_loss: 0.3490 - val_wine_quality_loss: 0.3213 - val_wine_type_loss: 0.0268 - val_wine_quality_root_mean_squared_error: 0.5674 - val_wine_type_accuracy: 0.9962\n",
      "Epoch 162/180\n",
      "3155/3155 [==============================] - 0s 124us/sample - loss: 0.2740 - wine_quality_loss: 0.2585 - wine_type_loss: 0.0153 - wine_quality_root_mean_squared_error: 0.5086 - wine_type_accuracy: 0.9968 - val_loss: 0.3485 - val_wine_quality_loss: 0.3209 - val_wine_type_loss: 0.0267 - val_wine_quality_root_mean_squared_error: 0.5670 - val_wine_type_accuracy: 0.9949\n",
      "Epoch 163/180\n",
      "3155/3155 [==============================] - 0s 104us/sample - loss: 0.2751 - wine_quality_loss: 0.2604 - wine_type_loss: 0.0153 - wine_quality_root_mean_squared_error: 0.5097 - wine_type_accuracy: 0.9968 - val_loss: 0.3491 - val_wine_quality_loss: 0.3215 - val_wine_type_loss: 0.0267 - val_wine_quality_root_mean_squared_error: 0.5676 - val_wine_type_accuracy: 0.9949\n",
      "Epoch 164/180\n",
      "3155/3155 [==============================] - 0s 103us/sample - loss: 0.2737 - wine_quality_loss: 0.2580 - wine_type_loss: 0.0156 - wine_quality_root_mean_squared_error: 0.5085 - wine_type_accuracy: 0.9968 - val_loss: 0.3535 - val_wine_quality_loss: 0.3256 - val_wine_type_loss: 0.0271 - val_wine_quality_root_mean_squared_error: 0.5710 - val_wine_type_accuracy: 0.9962\n",
      "Epoch 165/180\n",
      "3155/3155 [==============================] - 0s 115us/sample - loss: 0.2744 - wine_quality_loss: 0.2596 - wine_type_loss: 0.0151 - wine_quality_root_mean_squared_error: 0.5092 - wine_type_accuracy: 0.9971 - val_loss: 0.3514 - val_wine_quality_loss: 0.3238 - val_wine_type_loss: 0.0269 - val_wine_quality_root_mean_squared_error: 0.5694 - val_wine_type_accuracy: 0.9949\n",
      "Epoch 166/180\n",
      "3155/3155 [==============================] - 0s 99us/sample - loss: 0.2735 - wine_quality_loss: 0.2580 - wine_type_loss: 0.0151 - wine_quality_root_mean_squared_error: 0.5083 - wine_type_accuracy: 0.9971 - val_loss: 0.3549 - val_wine_quality_loss: 0.3272 - val_wine_type_loss: 0.0268 - val_wine_quality_root_mean_squared_error: 0.5725 - val_wine_type_accuracy: 0.9949\n",
      "Epoch 167/180\n",
      "3155/3155 [==============================] - 0s 115us/sample - loss: 0.2731 - wine_quality_loss: 0.2581 - wine_type_loss: 0.0151 - wine_quality_root_mean_squared_error: 0.5079 - wine_type_accuracy: 0.9971 - val_loss: 0.3499 - val_wine_quality_loss: 0.3222 - val_wine_type_loss: 0.0270 - val_wine_quality_root_mean_squared_error: 0.5679 - val_wine_type_accuracy: 0.9962\n",
      "Epoch 168/180\n",
      "3155/3155 [==============================] - 0s 102us/sample - loss: 0.2730 - wine_quality_loss: 0.2578 - wine_type_loss: 0.0154 - wine_quality_root_mean_squared_error: 0.5079 - wine_type_accuracy: 0.9971 - val_loss: 0.3508 - val_wine_quality_loss: 0.3227 - val_wine_type_loss: 0.0272 - val_wine_quality_root_mean_squared_error: 0.5686 - val_wine_type_accuracy: 0.9962\n",
      "Epoch 169/180\n",
      "3155/3155 [==============================] - 0s 102us/sample - loss: 0.2725 - wine_quality_loss: 0.2578 - wine_type_loss: 0.0157 - wine_quality_root_mean_squared_error: 0.5074 - wine_type_accuracy: 0.9971 - val_loss: 0.3544 - val_wine_quality_loss: 0.3263 - val_wine_type_loss: 0.0272 - val_wine_quality_root_mean_squared_error: 0.5718 - val_wine_type_accuracy: 0.9962\n",
      "Epoch 170/180\n",
      "3155/3155 [==============================] - 0s 121us/sample - loss: 0.2727 - wine_quality_loss: 0.2581 - wine_type_loss: 0.0151 - wine_quality_root_mean_squared_error: 0.5077 - wine_type_accuracy: 0.9968 - val_loss: 0.3453 - val_wine_quality_loss: 0.3173 - val_wine_type_loss: 0.0272 - val_wine_quality_root_mean_squared_error: 0.5637 - val_wine_type_accuracy: 0.9962\n",
      "Epoch 171/180\n",
      "3155/3155 [==============================] - 0s 119us/sample - loss: 0.2713 - wine_quality_loss: 0.2565 - wine_type_loss: 0.0149 - wine_quality_root_mean_squared_error: 0.5063 - wine_type_accuracy: 0.9971 - val_loss: 0.3536 - val_wine_quality_loss: 0.3256 - val_wine_type_loss: 0.0270 - val_wine_quality_root_mean_squared_error: 0.5712 - val_wine_type_accuracy: 0.9962\n",
      "Epoch 172/180\n",
      "3155/3155 [==============================] - 0s 102us/sample - loss: 0.2703 - wine_quality_loss: 0.2559 - wine_type_loss: 0.0148 - wine_quality_root_mean_squared_error: 0.5054 - wine_type_accuracy: 0.9968 - val_loss: 0.3540 - val_wine_quality_loss: 0.3264 - val_wine_type_loss: 0.0269 - val_wine_quality_root_mean_squared_error: 0.5716 - val_wine_type_accuracy: 0.9962\n",
      "Epoch 173/180\n",
      "3155/3155 [==============================] - 0s 103us/sample - loss: 0.2711 - wine_quality_loss: 0.2564 - wine_type_loss: 0.0147 - wine_quality_root_mean_squared_error: 0.5063 - wine_type_accuracy: 0.9971 - val_loss: 0.3428 - val_wine_quality_loss: 0.3150 - val_wine_type_loss: 0.0270 - val_wine_quality_root_mean_squared_error: 0.5617 - val_wine_type_accuracy: 0.9962\n",
      "Epoch 174/180\n",
      "3155/3155 [==============================] - 0s 122us/sample - loss: 0.2715 - wine_quality_loss: 0.2571 - wine_type_loss: 0.0146 - wine_quality_root_mean_squared_error: 0.5068 - wine_type_accuracy: 0.9971 - val_loss: 0.3479 - val_wine_quality_loss: 0.3201 - val_wine_type_loss: 0.0268 - val_wine_quality_root_mean_squared_error: 0.5663 - val_wine_type_accuracy: 0.9949\n",
      "Epoch 175/180\n",
      "3155/3155 [==============================] - 0s 100us/sample - loss: 0.2716 - wine_quality_loss: 0.2572 - wine_type_loss: 0.0146 - wine_quality_root_mean_squared_error: 0.5069 - wine_type_accuracy: 0.9968 - val_loss: 0.3538 - val_wine_quality_loss: 0.3260 - val_wine_type_loss: 0.0270 - val_wine_quality_root_mean_squared_error: 0.5714 - val_wine_type_accuracy: 0.9962\n",
      "Epoch 176/180\n",
      "3155/3155 [==============================] - 0s 117us/sample - loss: 0.2702 - wine_quality_loss: 0.2554 - wine_type_loss: 0.0146 - wine_quality_root_mean_squared_error: 0.5055 - wine_type_accuracy: 0.9971 - val_loss: 0.3433 - val_wine_quality_loss: 0.3158 - val_wine_type_loss: 0.0269 - val_wine_quality_root_mean_squared_error: 0.5622 - val_wine_type_accuracy: 0.9949\n",
      "Epoch 177/180\n",
      "3155/3155 [==============================] - 0s 103us/sample - loss: 0.2699 - wine_quality_loss: 0.2548 - wine_type_loss: 0.0145 - wine_quality_root_mean_squared_error: 0.5054 - wine_type_accuracy: 0.9968 - val_loss: 0.3493 - val_wine_quality_loss: 0.3215 - val_wine_type_loss: 0.0269 - val_wine_quality_root_mean_squared_error: 0.5675 - val_wine_type_accuracy: 0.9962\n",
      "Epoch 178/180\n",
      "3155/3155 [==============================] - 0s 117us/sample - loss: 0.2706 - wine_quality_loss: 0.2560 - wine_type_loss: 0.0144 - wine_quality_root_mean_squared_error: 0.5061 - wine_type_accuracy: 0.9971 - val_loss: 0.3504 - val_wine_quality_loss: 0.3226 - val_wine_type_loss: 0.0270 - val_wine_quality_root_mean_squared_error: 0.5684 - val_wine_type_accuracy: 0.9962\n",
      "Epoch 179/180\n",
      "3155/3155 [==============================] - 0s 121us/sample - loss: 0.2687 - wine_quality_loss: 0.2544 - wine_type_loss: 0.0143 - wine_quality_root_mean_squared_error: 0.5043 - wine_type_accuracy: 0.9968 - val_loss: 0.3486 - val_wine_quality_loss: 0.3207 - val_wine_type_loss: 0.0272 - val_wine_quality_root_mean_squared_error: 0.5667 - val_wine_type_accuracy: 0.9962\n",
      "Epoch 180/180\n",
      "3155/3155 [==============================] - 0s 110us/sample - loss: 0.2690 - wine_quality_loss: 0.2541 - wine_type_loss: 0.0143 - wine_quality_root_mean_squared_error: 0.5046 - wine_type_accuracy: 0.9968 - val_loss: 0.3494 - val_wine_quality_loss: 0.3210 - val_wine_type_loss: 0.0274 - val_wine_quality_root_mean_squared_error: 0.5672 - val_wine_type_accuracy: 0.9962\n"
     ]
    }
   ],
   "source": [
    "## Please uncomment all lines in this cell and replace those marked with `# YOUR CODE HERE`.\n",
    "## You can select all lines in this code cell with Ctrl+A (Windows/Linux) or Cmd+A (Mac), then press Ctrl+/ (Windows/Linux) or Cmd+/ (Mac) to uncomment.\n",
    "\n",
    "\n",
    "\n",
    "history = model.fit(norm_train_X, train_Y,\n",
    "                    epochs = 180, validation_data=(norm_val_X, val_Y))"
   ]
  },
  {
   "cell_type": "code",
   "execution_count": 166,
   "metadata": {
    "deletable": false,
    "editable": false,
    "nbgrader": {
     "cell_type": "code",
     "checksum": "fadad8896eda9c8c2115970724b15508",
     "grade": true,
     "grade_id": "cell-eb4d5b41bef8f0ab",
     "locked": true,
     "points": 1,
     "schema_version": 3,
     "solution": false,
     "task": false
    }
   },
   "outputs": [
    {
     "name": "stdout",
     "output_type": "stream",
     "text": [
      "\u001b[92m All public tests passed\n"
     ]
    }
   ],
   "source": [
    "utils.test_history(history)"
   ]
  },
  {
   "cell_type": "code",
   "execution_count": 167,
   "metadata": {
    "colab": {},
    "colab_type": "code",
    "id": "CubF2J2gSf6q"
   },
   "outputs": [
    {
     "name": "stdout",
     "output_type": "stream",
     "text": [
      "789/789 [==============================] - 0s 33us/sample - loss: 0.3494 - wine_quality_loss: 0.3210 - wine_type_loss: 0.0274 - wine_quality_root_mean_squared_error: 0.5672 - wine_type_accuracy: 0.9962\n",
      "\n",
      "loss: 0.3494306602934316\n",
      "wine_quality_loss: 0.3210318386554718\n",
      "wine_type_loss: 0.027376839891076088\n",
      "wine_quality_rmse: 0.567183792591095\n",
      "wine_type_accuracy: 0.9961977005004883\n"
     ]
    }
   ],
   "source": [
    "# Gather the training metrics\n",
    "loss, wine_quality_loss, wine_type_loss, wine_quality_rmse, wine_type_accuracy = model.evaluate(x=norm_val_X, y=val_Y)\n",
    "\n",
    "print()\n",
    "print(f'loss: {loss}')\n",
    "print(f'wine_quality_loss: {wine_quality_loss}')\n",
    "print(f'wine_type_loss: {wine_type_loss}')\n",
    "print(f'wine_quality_rmse: {wine_quality_rmse}')\n",
    "print(f'wine_type_accuracy: {wine_type_accuracy}')\n",
    "\n",
    "# EXPECTED VALUES\n",
    "# ~ 0.30 - 0.38\n",
    "# ~ 0.30 - 0.38\n",
    "# ~ 0.018 - 0.036\n",
    "# ~ 0.50 - 0.62\n",
    "# ~ 0.97 - 1.0\n",
    "\n",
    "# Example:\n",
    "#0.3657050132751465\n",
    "#0.3463745415210724\n",
    "#0.019330406561493874\n",
    "#0.5885359048843384\n",
    "#0.9974651336669922"
   ]
  },
  {
   "cell_type": "markdown",
   "metadata": {
    "colab_type": "text",
    "id": "gPtTGAP4usnm"
   },
   "source": [
    "## Analyze the Model Performance\n",
    "\n",
    "Note that the model has two outputs. The output at index 0 is quality and index 1 is wine type\n",
    "\n",
    "So, round the quality predictions to the nearest integer."
   ]
  },
  {
   "cell_type": "code",
   "execution_count": 168,
   "metadata": {
    "colab": {},
    "colab_type": "code",
    "id": "tBq9PEeAaW-Y"
   },
   "outputs": [],
   "source": [
    "predictions = model.predict(norm_test_X)\n",
    "quality_pred = predictions[0]\n",
    "type_pred = predictions[1]"
   ]
  },
  {
   "cell_type": "code",
   "execution_count": 169,
   "metadata": {
    "colab": {},
    "colab_type": "code",
    "id": "YLhgTR4xTIxj"
   },
   "outputs": [
    {
     "name": "stdout",
     "output_type": "stream",
     "text": [
      "[5.494522]\n"
     ]
    }
   ],
   "source": [
    "print(quality_pred[0])\n",
    "\n",
    "# EXPECTED OUTPUT\n",
    "# 5.4 - 6.0"
   ]
  },
  {
   "cell_type": "code",
   "execution_count": 170,
   "metadata": {
    "colab": {},
    "colab_type": "code",
    "id": "MPi-eYfGTUXi"
   },
   "outputs": [
    {
     "name": "stdout",
     "output_type": "stream",
     "text": [
      "[8.609674e-05]\n",
      "[0.999982]\n"
     ]
    }
   ],
   "source": [
    "print(type_pred[0])\n",
    "print(type_pred[944])\n",
    "\n",
    "# EXPECTED OUTPUT\n",
    "# A number close to zero\n",
    "# A number close to or equal to 1"
   ]
  },
  {
   "cell_type": "markdown",
   "metadata": {
    "colab_type": "text",
    "id": "Kohk-9C6vt_s"
   },
   "source": [
    "### Plot Utilities\n",
    "\n",
    "We define a few utilities to visualize the model performance."
   ]
  },
  {
   "cell_type": "code",
   "execution_count": 171,
   "metadata": {
    "colab": {},
    "colab_type": "code",
    "id": "62gEOFUhn6aQ"
   },
   "outputs": [],
   "source": [
    "def plot_metrics(metric_name, title, ylim=5):\n",
    "    plt.title(title)\n",
    "    plt.ylim(0,ylim)\n",
    "    plt.plot(history.history[metric_name],color='blue',label=metric_name)\n",
    "    plt.plot(history.history['val_' + metric_name],color='green',label='val_' + metric_name)\n"
   ]
  },
  {
   "cell_type": "code",
   "execution_count": 172,
   "metadata": {
    "colab": {},
    "colab_type": "code",
    "id": "6rfgSx7uz5dj"
   },
   "outputs": [],
   "source": [
    "def plot_confusion_matrix(y_true, y_pred, title='', labels=[0,1]):\n",
    "    cm = confusion_matrix(test_Y[1], np.round(type_pred), labels=[0, 1])\n",
    "    disp = ConfusionMatrixDisplay(confusion_matrix=cm,\n",
    "                                  display_labels=[0, 1])\n",
    "    disp.plot(values_format='d');"
   ]
  },
  {
   "cell_type": "code",
   "execution_count": 173,
   "metadata": {
    "colab": {},
    "colab_type": "code",
    "id": "dfVLIqi017Vf"
   },
   "outputs": [],
   "source": [
    "def plot_diff(y_true, y_pred, title = '' ):\n",
    "    plt.scatter(y_true, y_pred)\n",
    "    plt.title(title)\n",
    "    plt.xlabel('True Values')\n",
    "    plt.ylabel('Predictions')\n",
    "    plt.axis('equal')\n",
    "    plt.axis('square')\n",
    "    plt.plot([-100, 100], [-100, 100])\n",
    "    return plt"
   ]
  },
  {
   "cell_type": "markdown",
   "metadata": {
    "colab_type": "text",
    "id": "8sd1jdFbwE0I"
   },
   "source": [
    "### Plots for Metrics"
   ]
  },
  {
   "cell_type": "code",
   "execution_count": 174,
   "metadata": {
    "colab": {},
    "colab_type": "code",
    "id": "f3MwZ5J1pOfj"
   },
   "outputs": [
    {
     "data": {
      "image/png": "[encoded data removed]",
      "text/plain": [
       "<Figure size 432x288 with 1 Axes>"
      ]
     },
     "metadata": {
      "needs_background": "light"
     },
     "output_type": "display_data"
    }
   ],
   "source": [
    "plot_metrics('wine_quality_root_mean_squared_error', 'RMSE', ylim=2)"
   ]
  },
  {
   "cell_type": "code",
   "execution_count": 175,
   "metadata": {
    "colab": {},
    "colab_type": "code",
    "id": "QIAxEezCppnd"
   },
   "outputs": [
    {
     "data": {
      "image/png": "[encoded data removed]",
      "text/plain": [
       "<Figure size 432x288 with 1 Axes>"
      ]
     },
     "metadata": {
      "needs_background": "light"
     },
     "output_type": "display_data"
    }
   ],
   "source": [
    "plot_metrics('wine_type_loss', 'Wine Type Loss', ylim=0.2)"
   ]
  },
  {
   "cell_type": "markdown",
   "metadata": {
    "colab_type": "text",
    "id": "uYV9AOAMwI9p"
   },
   "source": [
    "### Plots for Confusion Matrix\n",
    "\n",
    "Plot the confusion matrices for wine type. You can see that the model performs well for prediction of wine type from the confusion matrix and the loss metrics."
   ]
  },
  {
   "cell_type": "code",
   "execution_count": 176,
   "metadata": {
    "colab": {},
    "colab_type": "code",
    "id": "C3hvTYxIaf3n"
   },
   "outputs": [
    {
     "data": {
      "image/png": "[encoded data removed]",
      "text/plain": [
       "<Figure size 432x288 with 2 Axes>"
      ]
     },
     "metadata": {
      "needs_background": "light"
     },
     "output_type": "display_data"
    }
   ],
   "source": [
    "plot_confusion_matrix(test_Y[1], np.round(type_pred), title='Wine Type', labels = [0, 1])"
   ]
  },
  {
   "cell_type": "code",
   "execution_count": 177,
   "metadata": {
    "colab": {},
    "colab_type": "code",
    "id": "GW91ym8P2I5y"
   },
   "outputs": [
    {
     "data": {
      "image/png": "[encoded data removed]",
      "text/plain": [
       "<Figure size 432x288 with 1 Axes>"
      ]
     },
     "metadata": {
      "needs_background": "light"
     },
     "output_type": "display_data"
    }
   ],
   "source": [
    "scatter_plot = plot_diff(test_Y[0], quality_pred, title='Type')"
   ]
  }
 ],
 "metadata": {
  "colab": {
   "include_colab_link": true,
   "name": "exercise-answer.ipynb",
   "provenance": []
  },
  "kernelspec": {
   "display_name": "Python 3",
   "language": "python",
   "name": "python3"
  },
  "language_info": {
   "codemirror_mode": {
    "name": "ipython",
    "version": 3
   },
   "file_extension": ".py",
   "mimetype": "text/x-python",
   "name": "python",
   "nbconvert_exporter": "python",
   "pygments_lexer": "ipython3",
   "version": "3.7.6"
  }
 },
 "nbformat": 4,
 "nbformat_minor": 4
}
